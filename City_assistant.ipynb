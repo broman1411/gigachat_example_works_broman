{
  "nbformat": 4,
  "nbformat_minor": 0,
  "metadata": {
    "colab": {
      "provenance": []
    },
    "kernelspec": {
      "name": "python3",
      "display_name": "Python 3"
    },
    "language_info": {
      "name": "python"
    }
  },
  "cells": [
    {
      "cell_type": "markdown",
      "source": [
        "# City assistant - Городской ассистент\n",
        "В этом проекте будет создан ассистент с набором инструментов. В качестве инструментов будут следующие функции:\n",
        "\n",
        "*   определение погоды;\n",
        "*   поиск ресторанов;\n",
        "*   поиск достопримечательностей;\n",
        "*   поиск новостей.\n",
        "\n",
        "Для реализации такого агента нам понадобится:\n",
        "\n",
        "*   gigachain для создания агента;\n",
        "*   WeatherAPI ключ для погоды;\n",
        "*   2GIS Places API для поиска ресторанов и достопримечательностей;\n",
        "*   NewsAPI для поиска новостей."
      ],
      "metadata": {
        "id": "Zz7_fcO9RU4Z"
      }
    },
    {
      "cell_type": "markdown",
      "source": [
        "### Установка зависимостей"
      ],
      "metadata": {
        "id": "mtqjIwEETxNh"
      }
    },
    {
      "cell_type": "code",
      "source": [
        "!pip install -q langchain-gigachat langgraph langchain-community"
      ],
      "metadata": {
        "colab": {
          "base_uri": "https://localhost:8080/"
        },
        "id": "Vv7s0H7ZXI5v",
        "outputId": "2b704a70-b827-4af9-ff48-32c33bc89ec1"
      },
      "execution_count": 3,
      "outputs": [
        {
          "output_type": "stream",
          "name": "stdout",
          "text": [
            "Requirement already satisfied: ddgs in /usr/local/lib/python3.12/dist-packages (9.6.1)\n",
            "Requirement already satisfied: click>=8.1.8 in /usr/local/lib/python3.12/dist-packages (from ddgs) (8.3.0)\n",
            "Requirement already satisfied: primp>=0.15.0 in /usr/local/lib/python3.12/dist-packages (from ddgs) (0.15.0)\n",
            "Requirement already satisfied: lxml>=6.0.0 in /usr/local/lib/python3.12/dist-packages (from ddgs) (6.0.2)\n",
            "Requirement already satisfied: httpx>=0.28.1 in /usr/local/lib/python3.12/dist-packages (from httpx[brotli,http2,socks]>=0.28.1->ddgs) (0.28.1)\n",
            "Requirement already satisfied: anyio in /usr/local/lib/python3.12/dist-packages (from httpx>=0.28.1->httpx[brotli,http2,socks]>=0.28.1->ddgs) (4.11.0)\n",
            "Requirement already satisfied: certifi in /usr/local/lib/python3.12/dist-packages (from httpx>=0.28.1->httpx[brotli,http2,socks]>=0.28.1->ddgs) (2025.10.5)\n",
            "Requirement already satisfied: httpcore==1.* in /usr/local/lib/python3.12/dist-packages (from httpx>=0.28.1->httpx[brotli,http2,socks]>=0.28.1->ddgs) (1.0.9)\n",
            "Requirement already satisfied: idna in /usr/local/lib/python3.12/dist-packages (from httpx>=0.28.1->httpx[brotli,http2,socks]>=0.28.1->ddgs) (3.10)\n",
            "Requirement already satisfied: h11>=0.16 in /usr/local/lib/python3.12/dist-packages (from httpcore==1.*->httpx>=0.28.1->httpx[brotli,http2,socks]>=0.28.1->ddgs) (0.16.0)\n",
            "Requirement already satisfied: brotli in /usr/local/lib/python3.12/dist-packages (from httpx[brotli,http2,socks]>=0.28.1->ddgs) (1.1.0)\n",
            "Requirement already satisfied: h2<5,>=3 in /usr/local/lib/python3.12/dist-packages (from httpx[brotli,http2,socks]>=0.28.1->ddgs) (4.3.0)\n",
            "Requirement already satisfied: socksio==1.* in /usr/local/lib/python3.12/dist-packages (from httpx[brotli,http2,socks]>=0.28.1->ddgs) (1.0.0)\n",
            "Requirement already satisfied: hyperframe<7,>=6.1 in /usr/local/lib/python3.12/dist-packages (from h2<5,>=3->httpx[brotli,http2,socks]>=0.28.1->ddgs) (6.1.0)\n",
            "Requirement already satisfied: hpack<5,>=4.1 in /usr/local/lib/python3.12/dist-packages (from h2<5,>=3->httpx[brotli,http2,socks]>=0.28.1->ddgs) (4.1.0)\n",
            "Requirement already satisfied: sniffio>=1.1 in /usr/local/lib/python3.12/dist-packages (from anyio->httpx>=0.28.1->httpx[brotli,http2,socks]>=0.28.1->ddgs) (1.3.1)\n",
            "Requirement already satisfied: typing_extensions>=4.5 in /usr/local/lib/python3.12/dist-packages (from anyio->httpx>=0.28.1->httpx[brotli,http2,socks]>=0.28.1->ddgs) (4.15.0)\n"
          ]
        }
      ]
    },
    {
      "cell_type": "markdown",
      "source": [
        "### Инициализация GigaChat\n",
        "Настройка GigaChat, импорт необходимых модулей, загрузка данных из секрета colab\n"
      ],
      "metadata": {
        "id": "HehEcXmHUt22"
      }
    },
    {
      "cell_type": "code",
      "source": [
        "from langchain_gigachat.chat_models import GigaChat\n",
        "from langchain_core.messages import HumanMessage\n",
        "from langgraph.prebuilt import create_react_agent\n",
        "from google.colab import userdata\n",
        "import requests\n",
        "import json\n",
        "from datetime import datetime, timedelta\n",
        "\n",
        "auth = userdata.get('SBER_AUTH')"
      ],
      "metadata": {
        "id": "lCr6ufzrAHIF"
      },
      "execution_count": 26,
      "outputs": []
    },
    {
      "cell_type": "markdown",
      "source": [
        "### Инструмент - Погода\n",
        "Назначение: Получение текущей погоды и прогноза через WeatherAPI:\n",
        "\n",
        "*   Запрос к WeatherAPI с параметрами города, дней прогноза\n",
        "*   Данные: температура, влажность, ветер, УФ-индекс, качество воздуха\n",
        "*   Читаемый вывод с структурированной информацией"
      ],
      "metadata": {
        "id": "z4ZbVT4GVl95"
      }
    },
    {
      "cell_type": "code",
      "source": [
        "from langchain_core.tools import tool\n",
        "\n",
        "@tool\n",
        "def get_weather(city: str, days: int = 3, include_aqi: bool = False, include_alerts: bool = False) -> str:\n",
        "    \"\"\"Получает текущий прогноз погоды и прогноз на несколько дней для указанного города через WeatherAPI.\n",
        "\n",
        "    Args:\n",
        "        city: Название города или местоположения\n",
        "        days: Количество дней прогноза (1-14, по умолчанию 3)\n",
        "        include_aqi: Включать данные о качестве воздуха\n",
        "        include_alerts: Включать погодные предупреждения\n",
        "    \"\"\"\n",
        "    try:\n",
        "        api_key = userdata.get('WeatherAPI_key')\n",
        "\n",
        "        params = {\n",
        "            'key': api_key,\n",
        "            'q': city,\n",
        "            'lang': 'ru'\n",
        "        }\n",
        "\n",
        "        if days > 1:\n",
        "            url = \"http://api.weatherapi.com/v1/forecast.json\"\n",
        "            params['days'] = min(days, 14)  # Ограничиваем максимум 14 дней\n",
        "        else:\n",
        "            url = \"http://api.weatherapi.com/v1/current.json\"\n",
        "\n",
        "        if include_aqi:\n",
        "            params['aqi'] = 'yes'\n",
        "        if include_alerts:\n",
        "            params['alerts'] = 'yes'\n",
        "\n",
        "        response = requests.get(url, params=params)\n",
        "        data = response.json()\n",
        "\n",
        "        if response.status_code == 200:\n",
        "            return format_weather_response(data, days)\n",
        "        else:\n",
        "            error_msg = data.get('error', {}).get('message', 'Неизвестная ошибка')\n",
        "            return f\"Не удалось получить погоду для {city}: {error_msg}\"\n",
        "\n",
        "    except Exception as e:\n",
        "        return f\"Ошибка при получении погоды: {str(e)}\"\n",
        "\n",
        "def format_weather_response(data: dict, days: int) -> str:\n",
        "    \"\"\"Форматирует ответ от WeatherAPI в читаемый текст.\"\"\"\n",
        "\n",
        "    location = data['location']\n",
        "    result = f\"Погода в {location['name']}, {location['country']}\\n\"\n",
        "    result += f\"Координаты: {location['lat']}, {location['lon']}\\n\"\n",
        "    result += f\"Местное время: {location['localtime']}\\n\\n\"\n",
        "\n",
        "    if 'current' in data:\n",
        "        current = data['current']\n",
        "        result += \"Текущая погода:\\n\"\n",
        "        result += f\"• Состояние: {current['condition']['text']}\\n\"\n",
        "        result += f\"• Температура: {current['temp_c']}°C (ощущается как {current['feelslike_c']}°C)\\n\"\n",
        "        result += f\"• Влажность: {current['humidity']}%\\n\"\n",
        "        result += f\"• Ветер: {current['wind_kph']} км/ч, направление: {current['wind_dir']}\\n\"\n",
        "        result += f\"• Давление: {current['pressure_mb']} мбар\\n\"\n",
        "        result += f\"• Видимость: {current['vis_km']} км\\n\"\n",
        "        result += f\"• УФ-индекс: {current.get('uv', 'N/A')}\\n\"\n",
        "\n",
        "        if 'air_quality' in current:\n",
        "            aqi = current['air_quality'].get('us-epa-index')\n",
        "            if aqi:\n",
        "                aqi_levels = {1: \"Хорошее\", 2: \"Умеренное\", 3: \"Нездоровое для чувствительных групп\",\n",
        "                             4: \"Нездоровое\", 5: \"Очень нездоровое\", 6: \"Опасное\"}\n",
        "                result += f\"• Качество воздуха: {aqi_levels.get(aqi, 'N/A')}\\n\"\n",
        "\n",
        "    if 'forecast' in data and days > 1:\n",
        "        result += f\"\\n Прогноз на {days} дней:\\n\"\n",
        "        for day_data in data['forecast']['forecastday']:\n",
        "            date = day_data['date']\n",
        "            day = day_data['day']\n",
        "            astro = day_data['astro']\n",
        "\n",
        "            result += f\"\\n {date}:\\n\"\n",
        "            result += f\"• Макс: {day['maxtemp_c']}°C, Мин: {day['mintemp_c']}°C\\n\"\n",
        "            result += f\"• Состояние: {day['condition']['text']}\\n\"\n",
        "            result += f\"• Вероятность дождя: {day.get('daily_chance_of_rain', 0)}%\\n\"\n",
        "            result += f\"• Вероятность снега: {day.get('daily_chance_of_snow', 0)}%\\n\"\n",
        "            result += f\"• Восход: {astro['sunrise']}, Закат: {astro['sunset']}\\n\"\n",
        "\n",
        "            if date == datetime.now().strftime('%Y-%m-%d') and 'hour' in day_data:\n",
        "                result += \"• Сегодня по часам: \"\n",
        "                hours_info = []\n",
        "                for hour in day_data['hour'][::3]:  # Каждые 3 часа\n",
        "                    time = hour['time'].split()[1][:5]\n",
        "                    temp = hour['temp_c']\n",
        "                    condition = hour['condition']['text']\n",
        "                    hours_info.append(f\"{time}h: {temp}°C ({condition})\")\n",
        "                result += \"; \".join(hours_info[:4]) + \"\\n\"\n",
        "\n",
        "    if 'alerts' in data and data['alerts'].get('alert'):\n",
        "        result += \"\\nПогодные предупреждения:\\n\"\n",
        "        for alert in data['alerts']['alert']:\n",
        "            result += f\"• {alert['headline']}\\n\"\n",
        "            result += f\"  Действует до: {alert['expires']}\\n\"\n",
        "\n",
        "    return result"
      ],
      "metadata": {
        "id": "7METSm8QASYl"
      },
      "execution_count": 27,
      "outputs": []
    },
    {
      "cell_type": "markdown",
      "source": [
        "### Инструмент - Достопримечательности\n",
        "Назначение: Поиск популярных достопримечательностей через 2ГИС API:\n",
        "\n",
        "*   Запрос к 2ГИС API с городом, где искать достопримечательности;\n",
        "*   Вывод: Список достопримечательностей с адресами.\n",
        "\n"
      ],
      "metadata": {
        "id": "EaxYSETPWbpU"
      }
    },
    {
      "cell_type": "code",
      "source": [
        "@tool\n",
        "def find_attractions(city: str) -> str:\n",
        "    \"\"\"Ищет популярные достопримечательности в указанном городе через 2ГИС Places API.\"\"\"\n",
        "    try:\n",
        "        api_key = userdata.get('2GIS_API')\n",
        "\n",
        "        geocode_url = f\"https://catalog.api.2gis.com/3.0/items/geocode?q={city}&key={api_key}&fields=items.point\"\n",
        "        geocode_response = requests.get(geocode_url)\n",
        "        geocode_data = geocode_response.json()\n",
        "\n",
        "        if geocode_data['meta']['code'] == 200 and geocode_data['result']['items']:\n",
        "            location = geocode_data['result']['items'][0]['point']\n",
        "            lat, lon = location['lat'], location['lon']\n",
        "\n",
        "            places_url = f\"https://catalog.api.2gis.com/3.0/items?q=достопримечательности&location={lon},{lat}&radius=5000&key={api_key}&fields=items.name,items.address_name&page_size=5\"\n",
        "            places_response = requests.get(places_url)\n",
        "            places_data = places_response.json()\n",
        "\n",
        "            if places_data['meta']['code'] == 200 and places_data['result']['items']:\n",
        "                attractions = []\n",
        "                for place in places_data['result']['items']:\n",
        "                    name = place['name']\n",
        "                    address = place.get('address_name', 'адрес не указан')\n",
        "                    attractions.append(f\"• {name} ({address})\")\n",
        "\n",
        "                return f\"Достопримечательности в {city}:\\n\" + \"\\n\".join(attractions)\n",
        "            else:\n",
        "                backup_url = f\"https://catalog.api.2gis.com/3.0/items?q=музеи,парки&location={lon},{lat}&radius=5000&key={api_key}&fields=items.name,items.address_name&page_size=5\"\n",
        "                backup_response = requests.get(backup_url)\n",
        "                backup_data = backup_response.json()\n",
        "\n",
        "                if backup_data['meta']['code'] == 200 and backup_data['result']['items']:\n",
        "                    places = []\n",
        "                    for place in backup_data['result']['items']:\n",
        "                        name = place['name']\n",
        "                        address = place.get('address_name', 'адрес не указан')\n",
        "                        places.append(f\"• {name} ({address})\")\n",
        "\n",
        "                    return f\"Интересные места в {city}:\\n\" + \"\\n\".join(places)\n",
        "                else:\n",
        "                    return f\"Не удалось найти достопримечательности в {city}\"\n",
        "        else:\n",
        "            return f\"Не удалось определить местоположение города {city}\"\n",
        "\n",
        "    except Exception as e:\n",
        "        return f\"Ошибка при поиске достопримечательностей: {str(e)}\""
      ],
      "metadata": {
        "id": "JwHBu_-IAajx"
      },
      "execution_count": 28,
      "outputs": []
    },
    {
      "cell_type": "markdown",
      "source": [
        "### Инструмент - Рестораны\n",
        "Назначение: Поиск ресторанов и кафе через 2ГИС API:\n",
        "\n",
        "*   Запрос к 2ГИС API с городом, где искать рестораны;\n",
        "*   Вывод: Список ресторанов с адресами."
      ],
      "metadata": {
        "id": "YTGIL17XWwxd"
      }
    },
    {
      "cell_type": "code",
      "source": [
        "@tool\n",
        "def find_restaurants(city: str) -> str:\n",
        "    \"\"\"Ищет рестораны, кафе и места для питания в указанном городе через 2ГИС Places API.\"\"\"\n",
        "    try:\n",
        "        api_key = userdata.get('2GIS_API')\n",
        "\n",
        "        geocode_url = f\"https://catalog.api.2gis.com/3.0/items/geocode?q={city}&key={api_key}&fields=items.point\"\n",
        "        geocode_response = requests.get(geocode_url)\n",
        "        geocode_data = geocode_response.json()\n",
        "\n",
        "        if geocode_data['meta']['code'] == 200 and geocode_data['result']['items']:\n",
        "            location = geocode_data['result']['items'][0]['point']\n",
        "            lat, lon = location['lat'], location['lon']\n",
        "\n",
        "            restaurants_url = f\"https://catalog.api.2gis.com/3.0/items?q=рестораны,кафе&location={lon},{lat}&radius=3000&key={api_key}&fields=items.name,items.address_name&page_size=5\"\n",
        "            restaurants_response = requests.get(restaurants_url)\n",
        "            restaurants_data = restaurants_response.json()\n",
        "\n",
        "            if restaurants_data['meta']['code'] == 200 and restaurants_data['result']['items']:\n",
        "                restaurants = []\n",
        "                for place in restaurants_data['result']['items']:\n",
        "                    name = place['name']\n",
        "                    address = place.get('address_name', 'адрес не указан')\n",
        "                    restaurants.append(f\"• {name} ({address})\")\n",
        "\n",
        "                return f\"Рестораны и кафе в {city}:\\n\" + \"\\n\".join(restaurants)\n",
        "            else:\n",
        "                return f\"Не удалось найти рестораны в {city}\"\n",
        "        else:\n",
        "            return f\"Не удалось определить местоположение города {city}\"\n",
        "\n",
        "    except Exception as e:\n",
        "        return f\"Ошибка при поиске ресторанов: {str(e)}\"\n"
      ],
      "metadata": {
        "id": "ncvHlU3qAe4c"
      },
      "execution_count": 29,
      "outputs": []
    },
    {
      "cell_type": "markdown",
      "source": [
        "### Инструмент - Новости\n",
        "Назначение: Поиск актуальных новостей о городе через NewsAPI:\n",
        "\n",
        "*   Запрос к NewsAPI с городом, где искать новости;\n",
        "*   Вывод: последние новости."
      ],
      "metadata": {
        "id": "vhqW2B5RXU1r"
      }
    },
    {
      "cell_type": "code",
      "source": [
        "@tool\n",
        "def find_news(city: str) -> str:\n",
        "    \"\"\"Ищет последние новости о городе через NewsAPI.\"\"\"\n",
        "    try:\n",
        "        api_key = userdata.get('NewsAPI')\n",
        "\n",
        "        from_date = (datetime.now() - timedelta(days=7)).strftime('%Y-%m-%d')\n",
        "\n",
        "        news_url = f\"https://newsapi.org/v2/everything?q={city}&from={from_date}&sortBy=publishedAt&language=ru&pageSize=5&apiKey={api_key}\"\n",
        "        response = requests.get(news_url)\n",
        "        data = response.json()\n",
        "\n",
        "        if data['status'] == 'ok' and data['totalResults'] > 0:\n",
        "            news_items = []\n",
        "            for article in data['articles'][:5]:\n",
        "                title = article['title']\n",
        "                source = article['source']['name']\n",
        "                published_at = article['publishedAt'][:10]\n",
        "                description = article.get('description', 'Описание отсутствует')\n",
        "\n",
        "                if len(description) > 150:\n",
        "                    description = description[:150] + \"...\"\n",
        "\n",
        "                news_items.append(f\"• {title} ({source}, {published_at})\\n  {description}\")\n",
        "\n",
        "            return f\"Последние новости о {city}:\\n\" + \"\\n\\n\".join(news_items)\n",
        "        else:\n",
        "            return f\"Не удалось найти новости о {city} за последнюю неделю\"\n",
        "\n",
        "    except Exception as e:\n",
        "        return f\"Ошибка при поиске новостей: {str(e)}\""
      ],
      "metadata": {
        "id": "Dx0sMoVjAgw_"
      },
      "execution_count": 30,
      "outputs": []
    },
    {
      "cell_type": "markdown",
      "source": [
        "### Создание агента с набором инструментов\n"
      ],
      "metadata": {
        "id": "bbq_JlhaYY3k"
      }
    },
    {
      "cell_type": "code",
      "source": [
        "travel_tools = [get_weather, find_attractions, find_restaurants, find_news]\n",
        "\n",
        "model = GigaChat(\n",
        "    credentials=auth,\n",
        "    scope=\"GIGACHAT_API_PERS\",\n",
        "    model=\"GigaChat-2\",\n",
        "    verify_ssl_certs=False,\n",
        "    max_tokens=1024\n",
        ")\n",
        "\n",
        "agent_executor = create_react_agent(model, travel_tools)\n"
      ],
      "metadata": {
        "id": "YbAzfQPw4x23"
      },
      "execution_count": 31,
      "outputs": []
    },
    {
      "cell_type": "markdown",
      "source": [
        "### Интерфейс для общения с агентом\n",
        "Взаимодействие: Цикл вопрос-ответ с обработкой ввода\n",
        "\n",
        "Обработка ответов: Фильтрация и форматирование вывода агента\n",
        "\n",
        "Управление: Возможность выхода командой \"выход\""
      ],
      "metadata": {
        "id": "ikBY-zulYs9t"
      }
    },
    {
      "cell_type": "code",
      "source": [
        "def chat_with_travel_agent():\n",
        "    \"\"\"Функция для чата с агентом-планировщиком путешествий\"\"\"\n",
        "    print(\"Добро пожаловать в планировщика путешествий!\")\n",
        "    print(\"Задавайте вопросы о любом городе! Например:\")\n",
        "    print(\"- Какая погода в Волгограде?\")\n",
        "    print(\"- Какие есть достопремичательности в Казани?\")\n",
        "    print(\"- Где поесть в Воронеже?\")\n",
        "    print(\"- Какие новости в Омске?\")\n",
        "    print(\"- 'выход' (для завершения)\")\n",
        "\n",
        "    while True:\n",
        "        user_input = input(\"\\nВопрос: \").strip()\n",
        "\n",
        "        if user_input.lower() in ['выход']:\n",
        "            print(\"До свидания!\")\n",
        "            break\n",
        "\n",
        "        if not user_input:\n",
        "            continue\n",
        "\n",
        "        try:\n",
        "\n",
        "            result = agent_executor.invoke({\n",
        "                \"messages\": [HumanMessage(content=user_input)]\n",
        "            })\n",
        "\n",
        "            tool_responses = []\n",
        "            final_ai_response = None\n",
        "\n",
        "            for message in result[\"messages\"]:\n",
        "                if hasattr(message, 'content') and message.content == user_input:\n",
        "                    continue\n",
        "\n",
        "                if (hasattr(message, 'content') and message.content and\n",
        "                    message.content != user_input and\n",
        "                    not hasattr(message, 'tool_calls')):\n",
        "                    content = message.content\n",
        "                    if any(indicator in content for indicator in\n",
        "                           ['Достопримечательности', 'Погода', 'Рестораны', 'новости',\n",
        "                            'рейтинг', '°C', 'температура', 'влажность']):\n",
        "                        tool_responses.append(content)\n",
        "                    elif not final_ai_response:\n",
        "                        final_ai_response = content\n",
        "\n",
        "            if tool_responses:\n",
        "                combined_response = \"\\n\".join(tool_responses)\n",
        "                if len(combined_response) > 1500:\n",
        "                    combined_response = combined_response[:1500] + \"...\"\n",
        "                print(f\"\\nОтвет: {combined_response}\")\n",
        "            elif final_ai_response:\n",
        "                if len(final_ai_response) > 1500:\n",
        "                    final_ai_response = final_ai_response[:1500] + \"...\"\n",
        "                print(f\"\\nОтвет: {final_ai_response}\")\n",
        "            else:\n",
        "                print(\"\\nНе удалось получить ответ от агента\")\n",
        "\n",
        "        except Exception as e:\n",
        "            print(f\"Произошла ошибка: {str(e)}\")\n",
        "\n",
        "chat_with_travel_agent()"
      ],
      "metadata": {
        "colab": {
          "base_uri": "https://localhost:8080/"
        },
        "id": "ehgoueZdBqm_",
        "outputId": "e3f40597-ea8b-454f-b02a-be6e6d3bccf0"
      },
      "execution_count": 33,
      "outputs": [
        {
          "output_type": "stream",
          "name": "stdout",
          "text": [
            "Добро пожаловать в планировщика путешествий!\n",
            "Задавайте вопросы о любом городе! Например:\n",
            "- Какая погода в Волгограде?\n",
            "- Какие есть достопремичательности в Казани?\n",
            "- Где поесть в Воронеже?\n",
            "- Какие новости в Омске?\n",
            "- 'выход' (для завершения)\n",
            "\n",
            "Вопрос: Какие есть достопремичательности в Казани?\n",
            "\n",
            "Ответ: Достопримечательности в Казань:\n",
            "• Дворец Земледельцев (Федосеевская улица, 36)\n",
            "• Собор Казанской иконы Божией Матери в Казанско-Богородицком монастыре (Большая Красная улица, 5Б)\n",
            "• Казанский национальный исследовательский технический университет им. А.Н. Туполева-КАИ, приемная ректора (улица Карла Маркса, 10)\n",
            "• Ирек, мечеть (Федосеевская улица, 5)\n",
            "• Казанский Богородицкий мужской монастырь (Большая Красная улица, 5)\n",
            "\n",
            "Вопрос: Где поесть в Воронеже?\n",
            "\n",
            "Ответ: Рестораны и кафе в Воронеж:\n",
            "• Belgium, ресторан (площадь Ленина, 8)\n",
            "• Мидийное место, кафе (Пушкинская улица, 2)\n",
            "• Just Bar&Kitchen, кафе-бар (Пушкинская улица, 1)\n",
            "• ЕваЕла, рестобистро (улица Комиссаржевской, 7)\n",
            "• Brixton art bar (улица Софьи Перовской, 3)\n",
            "\n",
            "Вопрос: Какие новости в Омске?\n",
            "\n",
            "Ответ: Последние новости о Омск:\n",
            "• В Омске в развлекательном центре крепление тарзанки пробило голову ребенку (Fishki.net, 2025-10-10)\n",
            "  На кадрах видно окровавленного ребенка, которому обрабатывают рану на голове – Самые лучшие и интересные видео по теме: Видео, Омск, ЧП на развлекател...\n",
            "\n",
            "• Как омские предприятия адаптируются к новым реалиям на рынке труда (Rg.ru, 2025-10-09)\n",
            "  Российский рынок труда находится в процессе трансформации уже несколько лет. Хорошая зарплата, медицинская страховка, социальные выплаты и стабильност...\n",
            "\n",
            "• В Тюменской области определили площадки, где будут строиться технопарки (Rg.ru, 2025-10-08)\n",
            "  Через девять лет после запуска первого индустриального парка Тюменская область наконец определилась с перспективным промышленным каркасом. Инфраструкт...\n",
            "\n",
            "Вопрос: Какая погода в Волгограде?\n",
            "\n",
            "Ответ: Погода в Волгоград, Россия\n",
            "Координаты: 48.8047, 44.5858\n",
            "Местное время: 2025-10-13 14:49\n",
            "\n",
            "Текущая погода:\n",
            "• Состояние: Переменная облачность\n",
            "• Температура: 14.3°C (ощущается как 12.5°C)\n",
            "• Влажность: 59%\n",
            "• Ветер: 24.8 км/ч, направление: SW\n",
            "• Давление: 1012.0 мбар\n",
            "• Видимость: 10.0 км\n",
            "• УФ-индекс: 1.8\n",
            "\n",
            " Прогноз на 3 дней:\n",
            "\n",
            " 2025-10-13:\n",
            "• Макс: 16.6°C, Мин: 11.0°C\n",
            "• Состояние: Переменная облачность\n",
            "• Вероятность дождя: 0%\n",
            "• Вероятность снега: 0%\n",
            "• Восход: 07:19 AM, Закат: 06:16 PM\n",
            "• Сегодня по часам: 00:00h: 12.7°C (Переменная облачность); 03:00h: 11.7°C (Переменная облачность); 06:00h: 11.0°C (Ясно); 09:00h: 14.4°C (Солнечно)\n",
            "\n",
            " 2025-10-14:\n",
            "• Макс: 13.6°C, Мин: 7.8°C\n",
            "• Состояние: Местами дождь\n",
            "• Вероятность дождя: 79%\n",
            "• Вероятность снега: 0%\n",
            "• Восход: 07:21 AM, Закат: 06:14 PM\n",
            "\n",
            " 2025-10-15:\n",
            "• Макс: 13.1°C, Мин: 9.0°C\n",
            "• Состояние: Пасмурно\n",
            "• Вероятность дождя: 0%\n",
            "• Вероятность снега: 0%\n",
            "• Восход: 07:22 AM, Закат: 06:12 PM\n",
            "\n",
            "\n",
            "Вопрос: выход\n",
            "До свидания!\n"
          ]
        }
      ]
    }
  ]
}
