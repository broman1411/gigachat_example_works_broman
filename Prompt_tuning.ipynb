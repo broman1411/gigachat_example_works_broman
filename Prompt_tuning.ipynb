{
  "nbformat": 4,
  "nbformat_minor": 0,
  "metadata": {
    "colab": {
      "provenance": []
    },
    "kernelspec": {
      "name": "python3",
      "display_name": "Python 3"
    },
    "language_info": {
      "name": "python"
    }
  },
  "cells": [
    {
      "cell_type": "markdown",
      "source": [
        "# Работа с API GigaChat с применением разных методов и параметров генерации."
      ],
      "metadata": {
        "id": "Rwr-z1vnRBT5"
      }
    },
    {
      "cell_type": "markdown",
      "source": [
        "## Авторизация"
      ],
      "metadata": {
        "id": "SkmJJqrOXAFc"
      }
    },
    {
      "cell_type": "markdown",
      "source": [
        "Регестрируемся на сайте developers.sber.ru, переходим в GigaChat API, подключаем тариф Freemium, переходим на вкладку \"Настройка API\", копируем Client ID и ключ авторизации в вкладку \"Секреты\" левой панели Colab для хранения ключей"
      ],
      "metadata": {
        "id": "Gz3Yw1gLZ7GK"
      }
    },
    {
      "cell_type": "code",
      "execution_count": null,
      "metadata": {
        "id": "mZpXYTMtZFQC"
      },
      "outputs": [],
      "source": [
        "from google.colab import userdata\n",
        "client_id = userdata.get('SBER_ID')\n",
        "auth = userdata.get('SBER_AUTH')"
      ]
    },
    {
      "cell_type": "markdown",
      "source": [
        "Получим токен доступа для авторизации запросов к *API*"
      ],
      "metadata": {
        "id": "hBlw1JDGaGke"
      }
    },
    {
      "cell_type": "code",
      "source": [
        "import requests\n",
        "import uuid\n",
        "\n",
        "def get_token(auth_token, scope='GIGACHAT_API_PERS'):\n",
        "    \"\"\"\n",
        "      Выполняет POST-запрос к эндпоинту, который выдает токен.\n",
        "\n",
        "      Параметры:\n",
        "      - auth_token (str): токен авторизации, необходимый для запроса.\n",
        "      - область (str): область действия запроса API. По умолчанию — «GIGACHAT_API_PERS».\n",
        "\n",
        "      Возвращает:\n",
        "      - ответ API, где токен и срок его \"годности\".\n",
        "      \"\"\"\n",
        "    rq_uid = str(uuid.uuid4())\n",
        "\n",
        "    url = \"https://ngw.devices.sberbank.ru:9443/api/v2/oauth\"\n",
        "\n",
        "    headers = {\n",
        "        'Content-Type': 'application/x-www-form-urlencoded',\n",
        "        'Accept': 'application/json',\n",
        "        'RqUID': rq_uid,\n",
        "        'Authorization': f'Basic {auth_token}'\n",
        "    }\n",
        "\n",
        "    payload = {\n",
        "        'scope': scope\n",
        "    }\n",
        "\n",
        "    try:\n",
        "        response = requests.post(url, headers=headers, data=payload, verify=False)\n",
        "        return response\n",
        "    except requests.RequestException as e:\n",
        "        print(f\"Ошибка: {str(e)}\")\n",
        "        return -1"
      ],
      "metadata": {
        "id": "f6Uj8EkWZPf-"
      },
      "execution_count": null,
      "outputs": []
    },
    {
      "cell_type": "code",
      "source": [
        "response = get_token(auth)\n",
        "if response != 1:\n",
        "  print(response.text)\n",
        "  giga_token = response.json()['access_token']"
      ],
      "metadata": {
        "colab": {
          "base_uri": "https://localhost:8080/"
        },
        "id": "CkFNC_etZQXv",
        "outputId": "fe491909-38b9-4c83-a5d9-f260b85e9ae0"
      },
      "execution_count": null,
      "outputs": [
        {
          "output_type": "stream",
          "name": "stdout",
          "text": [
            "{\"access_token\":\"eyJjdHkiOiJqd3QiLCJlbmMiOiJBMjU2Q0JDLUhTNTEyIiwiYWxnIjoiUlNBLU9BRVAtMjU2In0.UFsFz_E51fo1gaYDkvpFYooc-e7sxyb2ztPHM6eOHj3R38RJz2cBiCmbY5GKHleMixsdY7jnUPLjRMWFbd1oXWc9IkcLZA1te-JzIBtdE6800vL__El6maWP5fs_fwolGEsOP8S8DfLHwHPDL1L-X6LSiB3hOAYDo1uJSh-y47XcQvJpUHw-J3YcWzBwM8JIQEeK_geiKyTGTDMwFTa7poSlhxbrZMdjyHUR1EoxmoKX7t-SxgjfiAAwHnaa_LXcmleonYcfilG3s1x8CRsZI6Hl_iWel4KnJ6XMN1SdlApF4Ij7sPwZu9GeBtcAXc9jUSABOHHPmUaGxnYgaJS1xQ.CprcoktBGBR0OD8Tii0DKg.26G89fBrMqDRniKiWbx8x68kvN1yUSliFrU77g7WAYTJOXfWzyGUaQq5WPjituQdhunDOkhBw_XLwu64sQ2-0QbossUoqW_-XNisnHxFKR6yrS07LO3pTCW0FuNLT65ysvRpaqIWJwqkI75EHvvOHciDvmOUhlKkR3yqIzHowNPVBhBLiKnoNdVzx8oBK5KhYQ395ZGJyDF2lfJLvMbeAPC4gtjBDS0xQBM7xQOaZVeNvf99vXgbd1G4eiJtZq0tpxtS6v2n1GCCM8pZIe0RI6wCiSl7P2PITXwfyZST3zQsgbvC5srUT6DfJ72LBAUrX7bKVQmL73QqHcLtkzh-JpxVzBzdPWyDkA263gw-GUOUjPfCxHsT_9jz4yZ5npuSsdMiPdcHynQpKhCP7pclGWaJBzYLshOdJhCCb9c1EkuhVCpPBHErPuZOMV-HH_EIvJKuqn4NkRe3v-88LbTP-OOHteD7Y8jRBlkDDNKqDiMaW9xvV_pJK9ctygjKpXHDsiAV4waZxQZXE-dTKGdUvxFnoYumFLfduwypeIasOihINKpUJ8SbqV-Z1ZpIiX__8zaeYF9_D8Z8lR5u2b9KwDkkW5wRznxkRjuS0Uvc5I9IkbAjIzgAnSu8QvV5cd7kvHN4W4hzyZXbmsBUHb1tfXFnrnbgzySsStFaipLNAaP5VbKSaver4twDNHrAnYGbFCBfhWm0wN1dVzU6t93I5ph84dwaWb0tcwvrVnHbg70.6-1drukzXnTOPXPvajtL1mmEtrgu7tN9vD3WpNtgqx8\",\"expires_at\":1760095220333}\n"
          ]
        }
      ]
    },
    {
      "cell_type": "markdown",
      "source": [
        "Получим список моделей"
      ],
      "metadata": {
        "id": "MMHoCNfekBWV"
      }
    },
    {
      "cell_type": "code",
      "source": [
        "import requests\n",
        "\n",
        "url = \"https://gigachat.devices.sberbank.ru/api/v1/models\"\n",
        "\n",
        "payload={}\n",
        "headers = {\n",
        "  'Accept': 'application/json',\n",
        "  'Authorization': f'Bearer {giga_token}'\n",
        "}\n",
        "\n",
        "response = requests.request(\"GET\", url, headers=headers, data=payload, verify=False)\n",
        "\n",
        "print(response.text)"
      ],
      "metadata": {
        "colab": {
          "base_uri": "https://localhost:8080/"
        },
        "id": "fDpBQwHGZQUa",
        "outputId": "d01bb234-8e77-4dae-90dd-ef4e56c7734a"
      },
      "execution_count": null,
      "outputs": [
        {
          "output_type": "stream",
          "name": "stdout",
          "text": [
            "{\"object\":\"list\",\"data\":[{\"id\":\"GigaChat\",\"object\":\"model\",\"owned_by\":\"salutedevices\",\"type\":\"chat\"},{\"id\":\"GigaChat-2\",\"object\":\"model\",\"owned_by\":\"salutedevices\",\"type\":\"chat\"},{\"id\":\"GigaChat-2-Max\",\"object\":\"model\",\"owned_by\":\"salutedevices\",\"type\":\"chat\"},{\"id\":\"GigaChat-2-Pro\",\"object\":\"model\",\"owned_by\":\"salutedevices\",\"type\":\"chat\"},{\"id\":\"GigaChat-Max\",\"object\":\"model\",\"owned_by\":\"salutedevices\",\"type\":\"chat\"},{\"id\":\"GigaChat-Max-preview\",\"object\":\"model\",\"owned_by\":\"salutedevices\",\"type\":\"chat\"},{\"id\":\"GigaChat-Plus\",\"object\":\"model\",\"owned_by\":\"salutedevices\",\"type\":\"chat\"},{\"id\":\"GigaChat-Pro\",\"object\":\"model\",\"owned_by\":\"salutedevices\",\"type\":\"chat\"},{\"id\":\"GigaChat-Pro-preview\",\"object\":\"model\",\"owned_by\":\"salutedevices\",\"type\":\"chat\"},{\"id\":\"Embeddings\",\"object\":\"model\",\"owned_by\":\"salutedevices\",\"type\":\"embedder\"},{\"id\":\"Embeddings-2\",\"object\":\"model\",\"owned_by\":\"salutedevices\",\"type\":\"embedder\"},{\"id\":\"EmbeddingsGigaR\",\"object\":\"model\",\"owned_by\":\"salutedevices\",\"type\":\"embedder\"}]}\n"
          ]
        }
      ]
    },
    {
      "cell_type": "markdown",
      "source": [
        "Функция для отправки запроса к API чата и получения ответа"
      ],
      "metadata": {
        "id": "WQEJTwPxmA_x"
      }
    },
    {
      "cell_type": "code",
      "source": [
        "import requests\n",
        "import json\n",
        "\n",
        "\n",
        "def get_chat_completion(auth_token, user_message):\n",
        "    \"\"\"\n",
        "    Отправляет POST-запрос к API чата для получения ответа от модели GigaChat.\n",
        "\n",
        "    Параметры:\n",
        "    - auth_token (str): Токен для авторизации в API.\n",
        "    - user_message (str): Сообщение от пользователя, для которого нужно получить ответ.\n",
        "\n",
        "    Возвращает:\n",
        "    - str: Ответ от API в виде текстовой строки.\n",
        "    \"\"\"\n",
        "    url = \"https://gigachat.devices.sberbank.ru/api/v1/chat/completions\"\n",
        "\n",
        "    payload = json.dumps({\n",
        "        \"model\": \"GigaChat\",\n",
        "        \"messages\": [\n",
        "            {\n",
        "                \"role\": \"user\",\n",
        "                \"content\": user_message\n",
        "            }\n",
        "        ],\n",
        "        \"temperature\": 1,\n",
        "        \"top_p\": 0.1,\n",
        "        \"n\": 1,\n",
        "        \"stream\": False,\n",
        "        \"max_tokens\": 512,\n",
        "        \"repetition_penalty\": 1,\n",
        "        \"update_interval\": 0\n",
        "    })\n",
        "\n",
        "    headers = {\n",
        "        'Content-Type': 'application/json',\n",
        "        'Accept': 'application/json',\n",
        "        'Authorization': f'Bearer {auth_token}'\n",
        "    }\n",
        "\n",
        "    try:\n",
        "        response = requests.request(\"POST\", url, headers=headers, data=payload, verify=False)\n",
        "        return response\n",
        "    except requests.RequestException as e:\n",
        "        print(f\"Произошла ошибка: {str(e)}\")\n",
        "        return -1"
      ],
      "metadata": {
        "id": "fb37GOLVZ94B"
      },
      "execution_count": null,
      "outputs": []
    },
    {
      "cell_type": "markdown",
      "source": [
        "Составим различные промпты использую методы: zero-shot, few-shot, chain-of-thought, self-consistency."
      ],
      "metadata": {
        "id": "xAoVrw3KmTkJ"
      }
    },
    {
      "cell_type": "code",
      "source": [
        "import urllib3\n",
        "urllib3.disable_warnings(urllib3.exceptions.InsecureRequestWarning)\n",
        "\n",
        "print(\"Методы для создания промптов:\\n\")\n",
        "\n",
        "print(\"1. Zero-shot:\")\n",
        "zero_shot_prompt = \"Объясни, что такое искусственный интеллект простыми словами.\"\n",
        "response = get_chat_completion(giga_token, zero_shot_prompt)\n",
        "print(f\"Запрос: {zero_shot_prompt}\")\n",
        "print(f\"Ответ: {response.json()['choices'][0]['message']['content']}\\n\")\n",
        "\n",
        "print(\"2. Few-shot:\")\n",
        "few_shot_prompt = \"\"\"\n",
        "Классифицируй настроение текста как позитивное, негативное или нейтральное.\n",
        "\n",
        "Примеры:\n",
        "Текст: \"Этот фильм просто потрясающий!\"\n",
        "Настроение: позитивное\n",
        "\n",
        "Текст: \"Ужасное обслуживание, никогда больше не приду.\"\n",
        "Настроение: негативное\n",
        "\n",
        "Текст: \"Сегодня обычный день.\"\n",
        "Настроение: нейтральное\n",
        "\n",
        "Текст: \"Обожаю эту новую функцию в приложении!\"\n",
        "Настроение:\n",
        "\"\"\"\n",
        "\n",
        "response = get_chat_completion(giga_token, few_shot_prompt)\n",
        "print(f\"Запрос: {few_shot_prompt.split('Текст: ')[-1].split('Настроение:')[0]}\")\n",
        "print(f\"Ответ: {response.json()['choices'][0]['message']['content']}\\n\")\n",
        "\n",
        "print(\"3. Chain-of-Thought:\")\n",
        "cot_prompt = \"\"\"\n",
        "Задача: У Пети было 10 рублей. Он потратил 4 рубля на конфеты,\n",
        "а затем нашел 2 рубля. Сколько денег у Пети теперь?\n",
        "\n",
        "Давай решим по шагам на русском:\n",
        "\"\"\"\n",
        "\n",
        "response = get_chat_completion(giga_token, cot_prompt)\n",
        "print(f\"Запрос: {cot_prompt.split('Задача:')[1].split('?')[0]}?\")\n",
        "print(f\"Ответ: {response.json()['choices'][0]['message']['content']}\\n\")\n",
        "\n",
        "print(\"4. Self-consistency:\")\n",
        "self_consistency_prompt = \"\"\"\n",
        "Реши логическую задачу несколькими разными способами и выбери наиболее последовательный ответ.\n",
        "\n",
        "Задача: В корзине лежат яблоки. Если раздать по 2 яблока 3 людям, останется 1 яблоко.\n",
        "Если раздать по 3 яблока 2 людям, не хватит 1 яблока. Сколько яблок в корзине?\n",
        "\n",
        "Реши на русском несколькими способами и выбери наиболее последовательный ответ :\n",
        "\"\"\"\n",
        "\n",
        "response = get_chat_completion(giga_token, self_consistency_prompt)\n",
        "print(f\"Запрос: {self_consistency_prompt.split('Задача:')[1].split('?')[0]}?\")\n",
        "print(f\"Ответ: {response.json()['choices'][0]['message']['content']}\\n\")"
      ],
      "metadata": {
        "colab": {
          "base_uri": "https://localhost:8080/"
        },
        "id": "ZSAQn3FlZQRd",
        "outputId": "e22e4122-03d9-4010-ec20-394c7b4e8b3d"
      },
      "execution_count": null,
      "outputs": [
        {
          "output_type": "stream",
          "name": "stdout",
          "text": [
            "Методы для создания промптов:\n",
            "\n",
            "1. Zero-shot:\n",
            "Запрос: Объясни, что такое искусственный интеллект простыми словами.\n",
            "Ответ: Искусственный интеллект (ИИ) — это когда компьютеры и программы начинают «думать» и действовать как человек: понимают, учатся, решают задачи, общаются и даже принимают решения, как мы с вами. Например, голосовой помощник в телефоне, который помогает найти нужную информацию или подсказывает маршрут, — это и есть искусственный интеллект. Или умные машины, которые сами управляют автомобилями, распознают лица и помогают врачам ставить диагнозы. ИИ делает жизнь проще и удобнее.\n",
            "\n",
            "2. Few-shot:\n",
            "Запрос: \"Обожаю эту новую функцию в приложении!\"\n",
            "\n",
            "Ответ: **Текст:** «Обожаю эту новую функцию в приложении!»\n",
            "\n",
            "**Настроение:** позитивное\n",
            "\n",
            "3. Chain-of-Thought:\n",
            "Запрос:  У Пети было 10 рублей. Он потратил 4 рубля на конфеты,\n",
            "а затем нашел 2 рубля. Сколько денег у Пети теперь?\n",
            "Ответ: Решим задачу пошагово:\n",
            "\n",
            "1. Изначально у Пети было $10$ рублей.\n",
            "2. Петя потратил $4$ рубля на конфеты, значит, у него осталось:\n",
            "   \n",
            "\n",
            "$$\n",
            "   10 - 4 = 6 \\text{ рублей}\n",
            "   $$\n",
            "\n",
            "3. Затем Петя нашёл $2$ рубля, значит, теперь у него стало:\n",
            "   \n",
            "\n",
            "$$\n",
            "   6 + 2 = 8 \\text{ рублей}\n",
            "   $$\n",
            "\n",
            "Таким образом, у Пети теперь $8$ рублей.  \n",
            "\n",
            "**Ответ:** $8$ рублей.\n",
            "\n",
            "4. Self-Consistency:\n",
            "Запрос:  В корзине лежат яблоки. Если раздать по 2 яблока 3 людям, останется 1 яблоко.\n",
            "Если раздать по 3 яблока 2 людям, не хватит 1 яблока. Сколько яблок в корзине?\n",
            "Ответ: ### Решение задачи несколькими способами\n",
            "\n",
            "#### Способ 1. Алгебраический метод\n",
            "\n",
            "Пусть $x$ — количество яблок в корзине.\n",
            "\n",
            "1. Если раздать по 2 яблока 3 людям, останется 1 яблоко:\n",
            "   \n",
            "\n",
            "$$\n",
            "   3 \\cdot 2 + 1 = 7\n",
            "   $$\n",
            "\n",
            "   Значит, $x = 7$ или $x = 7 + 6k$ (где $k$ — целое число), так как яблоки можно раздавать порциями по 2.\n",
            "\n",
            "2. Если раздать по 3 яблока 2 людям, не хватит 1 яблока:\n",
            "   \n",
            "\n",
            "$$\n",
            "   2 \\cdot 3 - 1 = 5\n",
            "   $$\n",
            "\n",
            "   Значит, $x = 5$ или $x = 5 + 6m$ (где $m$ — целое число), так как яблоки можно раздавать порциями по 3.\n",
            "\n",
            "Теперь нужно найти общее решение, удовлетворяющее обоим условиям. Из уравнений:\n",
            "\n",
            "$$\n",
            "x = 7 + 6k \\quad \\text{и} \\quad x = 5 + 6m\n",
            "$$\n",
            "\n",
            "Получаем:\n",
            "\n",
            "$$\n",
            "7 + 6k = 5 + 6m \\quad \\Rightarrow \\quad 6k - 6m = -2 \\quad \\Rightarrow \\quad 3k - 3m = -1\n",
            "$$\n",
            "\n",
            "Так как $k$ и $m$ — целые числа, уравнение $3k - 3m = -1$ не имеет целых решений. Значит, нужно искать наименьшее общее решение, удовлетворяющее обоим условиям. Проверим $x = 7$ и $x = 5$:\n",
            "\n",
            "- $x = 7$: раздать по 2 яблокам 3 людям — останется 1 яблоко, раздать по 3 яблокам 2 людям — не хватит 1 яблока.\n",
            "- $x = 5$: раздать по 2 яблокам 3 людям — не хватит 1 яблока, раздать по 3 яблокам 2 людям — не хватит 1 яблока.\n",
            "\n",
            "Таким образом, $x = 7$ удовлетворяет обоим условиям.\n",
            "\n",
            "#### Способ 2. Метод проб и ошибок\n",
            "\n",
            "Попробуем перебрать возможные значения яблок, удовлетворяющие обоим условиям:\n",
            "\n",
            "- Если раздать по 2 яблокам 3 людям, останется 1 яблоко: $x = 7, \n",
            "\n"
          ]
        }
      ]
    },
    {
      "cell_type": "markdown",
      "source": [
        "Тестирование разных параметров генерации"
      ],
      "metadata": {
        "id": "YBtap0BeqlXX"
      }
    },
    {
      "cell_type": "code",
      "source": [
        "def get_chat_completion_with_params(auth_token, user_message, temperature=1.0, top_p=0.1, max_tokens=512):\n",
        "    \"\"\"\n",
        "    Модифицированная функция с настраиваемыми параметрами генерации\n",
        "    \"\"\"\n",
        "    url = \"https://gigachat.devices.sberbank.ru/api/v1/chat/completions\"\n",
        "\n",
        "    payload = json.dumps({\n",
        "        \"model\": \"GigaChat\",\n",
        "        \"messages\": [{\"role\": \"user\", \"content\": user_message}],\n",
        "        \"temperature\": temperature,\n",
        "        \"top_p\": top_p,\n",
        "        \"n\": 1,\n",
        "        \"stream\": False,\n",
        "        \"max_tokens\": max_tokens,\n",
        "        \"repetition_penalty\": 1,\n",
        "        \"update_interval\": 0\n",
        "    })\n",
        "\n",
        "    headers = {\n",
        "        'Content-Type': 'application/json',\n",
        "        'Accept': 'application/json',\n",
        "        'Authorization': f'Bearer {auth_token}'\n",
        "    }\n",
        "\n",
        "    try:\n",
        "        response = requests.request(\"POST\", url, headers=headers, data=payload, verify=False)\n",
        "        return response\n",
        "    except requests.RequestException as e:\n",
        "        print(f\"Произошла ошибка: {str(e)}\")\n",
        "        return -1\n",
        "\n",
        "test_prompt = \"Напиши короткое описание кота (2-3 предложения).\"\n",
        "\n",
        "print(\"1. Тестирование разных значений temperature:\")\n",
        "temperatures = [0.1, 0.5, 1.0, 1.5]\n",
        "for temp in temperatures:\n",
        "    response = get_chat_completion_with_params(giga_token, test_prompt, temperature=temp)\n",
        "    content = response.json()['choices'][0]['message']['content']\n",
        "    print(f\"Temperature {temp}: {content[:]}\\n\")\n",
        "\n",
        "print(\"2. Тестирование разных значений Top_p:\")\n",
        "top_p_values = [0.1, 0.5, 0.9]\n",
        "for top_p in top_p_values:\n",
        "    response = get_chat_completion_with_params(giga_token, test_prompt, top_p=top_p)\n",
        "    content = response.json()['choices'][0]['message']['content']\n",
        "    print(f\"Top_p {top_p}: {content[:]}\\n\")\n",
        "\n",
        "print(\"3. Тестирование разных значений Max_tokens:\")\n",
        "max_tokens_values = [50, 100, 200]\n",
        "for max_toks in max_tokens_values:\n",
        "    response = get_chat_completion_with_params(giga_token, test_prompt, max_tokens=max_toks)\n",
        "    content = response.json()['choices'][0]['message']['content']\n",
        "    print(f\"Max_tokens {max_toks}: {content}\\n\")"
      ],
      "metadata": {
        "colab": {
          "base_uri": "https://localhost:8080/"
        },
        "id": "rDWPPRVxZQOu",
        "outputId": "c5a0cdd3-2a3d-4b21-bf64-bafd06bf9acf"
      },
      "execution_count": null,
      "outputs": [
        {
          "output_type": "stream",
          "name": "stdout",
          "text": [
            "Тестирование параметров генерации:\n",
            "\n",
            "1. Тестирование разных значений temperature:\n",
            "Temperature 0.1: Это спокойный и ласковый кот с густой серой шерстью и выразительными зелёными глазами. Он любит проводить время, уютно устроившись на коленях хозяина, мурлыча в ответ на поглаживания и нежные слова. В свободное время предпочитает лениво наблюдать за происходящим из окна или спокойно отдыхать в своём любимом кресле.\n",
            "\n",
            "Temperature 0.5: Это спокойный и ласковый кот с густой шерстью серо-белого окраса, который обожает проводить время на коленях у хозяина, мурлыча в ответ на поглаживания. Он уравновешен, не слишком активен, но всегда рад поиграть с любимой игрушкой или просто полежать рядом.\n",
            "\n",
            "Temperature 1.0: Это спокойный и ласковый кот с густой серой шерстью и выразительными зелёными глазами, который обожает проводить время на подоконнике, наблюдая за птицами, и уютно устроиться рядом с хозяином на диване.\n",
            "\n",
            "Temperature 1.5: Это спокойный и ласковый кот с густой серой шерстью и выразительными зелёными глазами. Он любит проводить время на подоконнике, наблюдая за птицами, и всегда встречает хозяев с нежным мурчанием у двери. В свободное время предпочитает уютные уголки и тёплые подушки.\n",
            "\n",
            "2. Тестирование разных значений Top_p:\n",
            "Top_p 0.1: Это спокойный и ласковый кот с густой серой шерстью и выразительными зелёными глазами. Он любит проводить время, уютно устроившись на коленях хозяина, мурлыча в ответ на поглаживания и нежные слова. В свободное время предпочитает наблюдать за происходящим из окна или спокойно отдыхать в своём любимом кресле.\n",
            "\n",
            "Top_p 0.5: Это спокойный и ласковый кот с густой шерстью шоколадного окраса, с большими выразительными глазами и мягким, добродушным характером. Он любит проводить время на коленях хозяина, мурлыча в ответ на ласку и тепло. Спокойный и уравновешенный, он легко находит общий язык с детьми и другими животными.\n",
            "\n",
            "Top_p 0.9: Это спокойный и ласковый кот средних размеров с пушистой короткой шерстью кремового цвета и выразительными голубыми глазами. Он любит сидеть на руках и сопровождать хозяина в доме, обожает играть с маленькими игрушками и уютно устраивается на коленях, когда приходит время отдохнуть.\n",
            "\n",
            "3. Тестирование разных значений Max_tokens:\n",
            "Max_tokens 50: Это спокойный и ласковый кот с густой шерстью серо-голубого окраса, который обожает проводить время на коленях у хозяина, мурлыча в ответ на поглаживания. Он уравновешен, не слишком активен\n",
            "\n",
            "Max_tokens 100: Это спокойный и ласковый кот с густой шерстью серо-голубого окраса, который обожает проводить время на коленях у хозяина, мурлыча в ответ на поглаживания. Он уравновешен, не слишком активен, но всегда рад поиграть с любимой игрушкой или побродить по дому, изучая каждый уголок.\n",
            "\n",
            "Max_tokens 200: Это спокойный и ласковый кот с густой шерстью серо-голубого окраса, который обожает проводить время на коленях у хозяина, мурлыча в ответ на поглаживания. Он уравновешен, не слишком активен, но всегда рад поиграть с любимой игрушкой или побродить по дому, изучая каждый уголок.\n",
            "\n"
          ]
        }
      ]
    },
    {
      "cell_type": "markdown",
      "source": [
        "Адаптации промптов под конкретные задачи, использование ролей"
      ],
      "metadata": {
        "id": "cKBnnfEgrvSV"
      }
    },
    {
      "cell_type": "code",
      "source": [
        "print(\"1. Техническая документация:\")\n",
        "tech_prompt = \"\"\"\n",
        "Ты - senior Python разработчик. Напиши документацию для функции,\n",
        "которая сортирует список чисел методом пузырьковой сортировки.\n",
        "\n",
        "Требования к документации:\n",
        "- Краткое описание алгоритма\n",
        "- Параметры функции\n",
        "- Возвращаемое значение\n",
        "- Пример использования\n",
        "\n",
        "Функция:\n",
        "def bubble_sort(numbers):\n",
        "    n = len(numbers)\n",
        "    for i in range(n):\n",
        "        for j in range(0, n - i - 1):\n",
        "            if numbers[j] > numbers[j + 1]:\n",
        "                numbers[j], numbers[j + 1] = numbers[j + 1], numbers[j]\n",
        "    return numbers\n",
        "\"\"\"\n",
        "\n",
        "response = get_chat_completion(giga_token, tech_prompt)\n",
        "\n",
        "print(response.json()['choices'][0]['message']['content'] + \"\\n\")\n",
        "\n",
        "print(\"2. Креативное письмо:\")\n",
        "creative_prompt = \"\"\"\n",
        "Ты - писатель-фантаст. Напиши короткий отрывок (3-4 предложения)\n",
        "о городе будущего, где технологии и природа сосуществуют в гармонии.\n",
        "Используй яркие образы и метафоры.\n",
        "\"\"\"\n",
        "\n",
        "response = get_chat_completion(giga_token, creative_prompt)\n",
        "\n",
        "print(response.json()['choices'][0]['message']['content'] + \"\\n\")\n",
        "\n",
        "print(\"3. Образовательный контент:\")\n",
        "education_prompt = \"\"\"\n",
        "Объясни понятие \"фотосинтез\" как будто ты учитель биологии для учеников 5 класса.\n",
        "Используй простые аналогии и примеры из повседневной жизни.\n",
        "Ограничься 5-6 предложениями.\n",
        "\"\"\"\n",
        "\n",
        "response = get_chat_completion(giga_token, education_prompt)\n",
        "\n",
        "print(response.json()['choices'][0]['message']['content'] + \"\\n\")"
      ],
      "metadata": {
        "colab": {
          "base_uri": "https://localhost:8080/"
        },
        "id": "_Lv0qA3ZZQKY",
        "outputId": "96ffc4e7-5d62-4a22-ecc6-fb92389de138"
      },
      "execution_count": null,
      "outputs": [
        {
          "output_type": "stream",
          "name": "stdout",
          "text": [
            "Промпты для разных сценарий\n",
            "\n",
            "1. Техническая документация:\n",
            "## Документация функции `bubble_sort`\n",
            "\n",
            "### Описание алгоритма\n",
            "**Пузырьковая сортировка (Bubble Sort)** — простой алгоритм сортировки, который многократно проходит по списку чисел и сравнивает соседние элементы. Если текущий элемент больше следующего, они меняются местами. После каждого прохода самый большой элемент \"всплывает\" на своё место в конце списка, поэтому алгоритм и получил название «пузырьковая сортировка».\n",
            "\n",
            "### Параметры функции\n",
            "- `numbers` (список чисел) — список целых или вещественных чисел, который необходимо отсортировать.\n",
            "\n",
            "### Возвращаемое значение\n",
            "- отсортированный список чисел в порядке возрастания.\n",
            "\n",
            "### Пример использования\n",
            "```python\n",
            "# Пример использования функции bubble_sort\n",
            "numbers = [64, 34, 25, 12, 22, 11, 90]\n",
            "sorted_numbers = bubble_sort(numbers)\n",
            "\n",
            "# Вывод отсортированного списка\n",
            "print(sorted_numbers)\n",
            "# [11, 12, 22, 25, 34, 64, 90]\n",
            "```\n",
            "\n",
            "### Примечание\n",
            "- Алгоритм пузырьковой сортировки имеет сложность $O(n^2)$ и не подходит для больших списков, однако он прост в реализации и понятен начинающим программистам.\n",
            "\n",
            "2. Креативное письмо:\n",
            "Город будущего раскинулся, словно гигантский сад, где высокие небоскрёбы, увитые зелёными вьющимися растениями, словно деревья с причудливыми кронами, тянулись к небу, словно исполинские пальмы. Солнечные панели, переливающиеся всеми оттенками радуги, словно крылья бабочек, сияли на крышах домов, питая энергией улицы и парки. Вдоль аллей, где журчали прозрачные ручьи, стояли прозрачные капсулы-гаражи, в которых парили электромобили, напоминая стайки серебристых рыбок. А над всем этим, словно нежный покров, парил лёгкий туман, сотканный из чистого воздуха и ароматов цветущих деревьев, наполняя город мягким, тёплым дыханием природы.\n",
            "\n",
            "3. Образовательный контент:\n",
            "Фотосинтез — это как если бы растения делали себе обед сами, без похода в магазин. Они берут из воздуха углекислый газ, из воды — воду, а свет солнца используют как поваренную «запалку». Из этих простых ингредиентов растения готовят себе еду — сахар, который потом запасают на зиму или используют для роста. Например, когда ты ешь яблоко или грушу, ты ешь еду, которую растение приготовило с помощью фотосинтеза.\n",
            "\n"
          ]
        }
      ]
    },
    {
      "cell_type": "markdown",
      "source": [
        "Сравнение различных системных промптов"
      ],
      "metadata": {
        "id": "U9wJ5R9eseLw"
      }
    },
    {
      "cell_type": "code",
      "source": [
        "def get_chat_completion_with_system(auth_token, system_message, user_message):\n",
        "    \"\"\"\n",
        "    Функция с поддержкой системных промптов\n",
        "    \"\"\"\n",
        "    url = \"https://gigachat.devices.sberbank.ru/api/v1/chat/completions\"\n",
        "\n",
        "    payload = json.dumps({\n",
        "        \"model\": \"GigaChat\",\n",
        "        \"messages\": [\n",
        "            {\"role\": \"system\", \"content\": system_message},\n",
        "            {\"role\": \"user\", \"content\": user_message}\n",
        "        ],\n",
        "        \"temperature\": 0.7,\n",
        "        \"top_p\": 0.9,\n",
        "        \"max_tokens\": 500\n",
        "    })\n",
        "\n",
        "    headers = {\n",
        "        'Content-Type': 'application/json',\n",
        "        'Accept': 'application/json',\n",
        "        'Authorization': f'Bearer {auth_token}'\n",
        "    }\n",
        "\n",
        "    try:\n",
        "        response = requests.request(\"POST\", url, headers=headers, data=payload, verify=False)\n",
        "        return response\n",
        "    except requests.RequestException as e:\n",
        "        print(f\"Произошла ошибка: {str(e)}\")\n",
        "        return -1\n",
        "\n",
        "system_prompts = {\n",
        "    \"эксперт\": \"Ты - эксперт по кибербезопасности с 10-летним опытом. Отвечай профессионально и технически точно.\",\n",
        "    \"помощник\": \"Ты - дружелюбный AI-помощник. Отвечай просто и понятно, используя аналогии.\",\n",
        "    \"аналитик\": \"Ты - аналитик данных. Структурируй ответы логически, используй нумерацию и выделяй ключевые моменты.\"\n",
        "}\n",
        "\n",
        "user_question = \"Что такое двухфакторная аутентификация и почему она важна?\"\n",
        "\n",
        "print(\"Сравнение системных промптов:\")\n",
        "for role, system_msg in system_prompts.items():\n",
        "    response = get_chat_completion_with_system(giga_token, system_msg, user_question)\n",
        "    content = response.json()['choices'][0]['message']['content']\n",
        "    print(f\"\\n--- {role.upper()} ---\")\n",
        "    print(f\"{content[:]}\")\n",
        "\n"
      ],
      "metadata": {
        "colab": {
          "base_uri": "https://localhost:8080/"
        },
        "id": "204TWSosZQES",
        "outputId": "1cf8dc74-663c-42cf-a265-540fd55a30e8"
      },
      "execution_count": null,
      "outputs": [
        {
          "output_type": "stream",
          "name": "stdout",
          "text": [
            "Системные промпты\n",
            "\n",
            "Сравнение системных промптов:\n",
            "\n",
            "--- ЭКСПЕРТ ---\n",
            "Двухфакторная (или многофакторная) аутентификация (MFA, от англ. Multi-Factor Authentication) — это метод повышения безопасности учетных записей пользователя путем добавления второго или дополнительного уровня проверки личности помимо традиционного пароля.\n",
            "\n",
            "В общем случае, процесс MFA состоит из трёх основных факторов:\n",
            "- **Знание** – пароль, PIN-код или секретный вопрос/ответ;\n",
            "- **Владение** – физический объект (например, смартфон, аппаратный токен), на котором установлено приложение-аутентификатор, SIM-карта устройства связи или USB-токен;\n",
            "- **Присутствие** – биометрические данные (отпечатки пальцев, лицо, радужка глаза, голосовые шаблоны).\n",
            "\n",
            "При использовании двухфакторной аутентификации для входа в систему пользователь должен предоставить не только свой традиционный пароль (что является первым фактором), но также подтвердить свою личность через второй фактор: например, ввести одноразовый код (OTP, One Time Password), отправленный на его телефон, использовать отпечаток пальца или сканирование лица.\n",
            "\n",
            "Почему MFA настолько важно?\n",
            "\n",
            "1. **Повышение надежности защиты:** Использование двух или более независимых методов подтверждения личности значительно усложняет злоумышленникам задачу получить доступ к аккаунту даже при компрометации одного из элементов аутентификации.\n",
            "   \n",
            "2. **Пароли становятся менее уязвимыми:** Пароли сами по себе могут быть слабыми, легко угадываемыми или украденными (через фишинг, кейлоггеры, атаки методом подбора). Добавление другого фактора делает атакам против аккаунта гораздо сложнее.\n",
            "\n",
            "3. **Снижение риска успешного взлома:** Вредоносные программы и социальная инженерия часто нацелены именно на получение паролей пользователей. Даже если злоумышленник узнает ваш пароль, ему все равно придется пройти дополнительный уровень проверки.\n",
            "\n",
            "4. **Эффективность защиты финансовых операций:** Банковские учреждения и онлайн-сервисы электронных платежей широко используют двухфакторную аутентификацию для предотвращения несанкционированного доступа и мошеннических транзакций.\n",
            "\n",
            "5. **Ограничение последствий утечек данных:** Если злоумышленники получат доступ к базе данных паролей компании, то наличие MFA помешает им сразу же воспользоваться полученными данными, так как потребуется дополнительная аутентификация.\n",
            "\n",
            "Таким образом, внедрение MFA является обязательным требованием информационной безопасности для большинства современных систем и сервисов, обеспечивая высокий уровень защиты персональных данных, финансовой информации и критически важных корпоративных ресурсов.\n",
            "\n",
            "--- ПОМОЩНИК ---\n",
            "Двухфакторная аутентификация — это как замок на дверь вашего дома плюс отпечаток пальца или ключ от замка. То есть сначала ты вводишь пароль (это первый \"замок\"), а потом подтвержаешь свою личность чем-то ещё (второй \"замок\"). Это помогает защитить твой аккаунт даже если кто-то узнает твой пароль.\n",
            " REMOVE\n",
            "\n",
            "Представь, что твой аккаунт - это сейф с сокровищами. Пароль - это один способ открыть его. А второй фактор, например, код из SMS или приложение для подтверждения, добавляет еще одну ступень защиты. Так никто посторонний не сможет легко добраться до твоих данных!\n",
            "\n",
            "--- АНАЛИТИК ---\n",
            "**Двухфакторная аутентификация (2FA)**\n",
            "\n",
            "1. **Определение:**\n",
            "   - Двухфакторная аутентификация – это метод подтверждения личности пользователя при доступе к сервису или системе с использованием минимум двух из трёх факторов:\n",
            "     局部[0]: \n",
            "     - Что-то, что вы знаете (пароль)\n",
            "     - Что-то, что у вас есть (смартфон, токен)\n",
            "     - Что-то, что является частью вас (отпечаток пальца, лицо)\n",
            "\n",
            "2. **Как работает:**\n",
            "   - Пользователь вводит свой пароль для первого шага аутентификации.\n",
            "   - Затем система отправляет код подтверждения на мобильное устройство пользователя либо генерирует одноразовый пароль через приложение-аутентификатор.\n",
            "   - После ввода полученного кода происходит окончательная проверка подлинности.\n",
            "\n",
            "3. **Почему важно использовать двухфакторную аутентификацию:**\n",
            "   - **Усиление безопасности:** Даже если злоумышленник получит доступ к паролю жертвы, он не сможет пройти второй этап проверки без дополнительного фактора.\n",
            "   - **Защита от фишинга и перехвата:** Если сайт был взломан или атакован методом фишинговой атаки, наличие второго уровня защиты предотвращает несанкционированный доступ.\n",
            "   - **Снижение риска утечек информации:** В случае компрометации учетных данных, использование 2FA значительно снижает вероятность успешного злоупотребления полученными данными.\n",
            "   - **Повышение доверия пользователей:** Использование 2FA демонстрирует заботу компании о безопасности пользовательских данных и повышает лояльность клиентов.\n",
            "\n",
            "Таким образом, двухфакторная аутентификация является эффективным способом повышения безопасности аккаунтов и сервисов в условиях современных угроз кибербезопасности.\n"
          ]
        }
      ]
    }
  ]
}
