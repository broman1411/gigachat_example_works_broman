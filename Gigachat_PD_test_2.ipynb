{
  "nbformat": 4,
  "nbformat_minor": 0,
  "metadata": {
    "colab": {
      "provenance": []
    },
    "kernelspec": {
      "name": "python3",
      "display_name": "Python 3"
    },
    "language_info": {
      "name": "python"
    }
  },
  "cells": [
    {
      "cell_type": "markdown",
      "source": [
        "# Анализ медицинских данных Diabetes с помощью GigaChat"
      ],
      "metadata": {
        "id": "YbF_q6Apbua2"
      }
    },
    {
      "cell_type": "markdown",
      "source": [
        "## Авторизация"
      ],
      "metadata": {
        "id": "SkmJJqrOXAFc"
      }
    },
    {
      "cell_type": "markdown",
      "source": [
        "Регестрируемся на сайте developers.sber.ru, переходим в GigaChat API, подключаем тариф Freemium, переходим на вкладку \"Настройка API\", копируем Client ID и ключ авторизации в вкладку \"Секреты\" левой панели Colab для хранения ключей"
      ],
      "metadata": {
        "id": "Gz3Yw1gLZ7GK"
      }
    },
    {
      "cell_type": "code",
      "execution_count": 2,
      "metadata": {
        "id": "mZpXYTMtZFQC"
      },
      "outputs": [],
      "source": [
        "from google.colab import userdata\n",
        "client_id = userdata.get('SBER_ID')\n",
        "auth = userdata.get('SBER_AUTH')"
      ]
    },
    {
      "cell_type": "markdown",
      "source": [
        "### Получим токен доступа для авторизации запросов к *API*"
      ],
      "metadata": {
        "id": "hBlw1JDGaGke"
      }
    },
    {
      "cell_type": "code",
      "source": [
        "import requests\n",
        "import uuid\n",
        "\n",
        "def get_token(auth_token, scope='GIGACHAT_API_PERS'):\n",
        "    \"\"\"\n",
        "      Выполняет POST-запрос к эндпоинту, который выдает токен.\n",
        "\n",
        "      Параметры:\n",
        "      - auth_token (str): токен авторизации, необходимый для запроса.\n",
        "      - область (str): область действия запроса API. По умолчанию — «GIGACHAT_API_PERS».\n",
        "\n",
        "      Возвращает:\n",
        "      - ответ API, где токен и срок его \"годности\".\n",
        "      \"\"\"\n",
        "    rq_uid = str(uuid.uuid4())\n",
        "\n",
        "    url = \"https://ngw.devices.sberbank.ru:9443/api/v2/oauth\"\n",
        "\n",
        "    # Заголовки\n",
        "    headers = {\n",
        "        'Content-Type': 'application/x-www-form-urlencoded',\n",
        "        'Accept': 'application/json',\n",
        "        'RqUID': rq_uid,\n",
        "        'Authorization': f'Basic {auth_token}'\n",
        "    }\n",
        "\n",
        "    payload = {\n",
        "        'scope': scope\n",
        "    }\n",
        "\n",
        "    try:\n",
        "        response = requests.post(url, headers=headers, data=payload, verify=False)\n",
        "        return response\n",
        "    except requests.RequestException as e:\n",
        "        print(f\"Ошибка: {str(e)}\")\n",
        "        return -1"
      ],
      "metadata": {
        "id": "f6Uj8EkWZPf-"
      },
      "execution_count": 3,
      "outputs": []
    },
    {
      "cell_type": "code",
      "source": [
        "response = get_token(auth)\n",
        "if response != 1:\n",
        "  print(response.text)\n",
        "  giga_token = response.json()['access_token']"
      ],
      "metadata": {
        "colab": {
          "base_uri": "https://localhost:8080/"
        },
        "id": "CkFNC_etZQXv",
        "outputId": "7cd5d62d-442c-473d-8ac1-9dd1cd6f6b4d"
      },
      "execution_count": 4,
      "outputs": [
        {
          "output_type": "stream",
          "name": "stdout",
          "text": [
            "{\"access_token\":\"eyJjdHkiOiJqd3QiLCJlbmMiOiJBMjU2Q0JDLUhTNTEyIiwiYWxnIjoiUlNBLU9BRVAtMjU2In0.lVOeVIbw4HwnTINKsDNLVrj1pFS2rN8yF59E2koc0PYovORNDWlYHnMYzT_JxUDozr-YH6Jo-0H4IiZRluSjd3Maq4I9PJBTt9ybtoEF1-I9Xau9SJNK6MK_eNP5GvBv-abGR76A1qVzyxIy_0P2BEVOBNTLMrqGvmWz86FTGQ7Pnl3BTgy8cpCRpuKkt1NmiOJZWMTMaC4-48bfSsX3PZFb5HCKjvoh-sC3cHYALtkP_4dIq44lFzdGWIB6w9QiXSQayklva2Xx8HH5woUSBbYlbcwU0sTkmpfYHXaxPxVwUn1F2EWtnbMmS56NcT7_PYlZy9P7bfJEEruaLD1tUQ.B703h940JAFd5m0awMwk-A.Ns5M_iEr34l-ZPRTWdSKyK0r6R6pV7pAq0BN81pep7u_5Q640Ci92gz8KqxZFeqxf-6goi_JL6ZGm-qPdY49DoF7qTYUG_Y3Cp1DjH6kyvXF2GL6r2v5kAXwbLXMyL-Zl_gX971L6QJwB46WECDqLuOt0lP7IXR71DE8m6LrkWKyKc9Wi4G8yoek739AqrhSG3bIVPvS-g0XVEcyS_JhuYZY9fewXt4nVbATrjtRFIur2yJi7MLgvulrWoXhvKpqKSf4-fxUKkPYLbjYcASCjFTpNczK4_Ao8eYsZqTH2rt7Y1bXjYbls5_JX6h-cFiu1YcGqC9zh_VaIxoDoUnVmYuYHJj0ZawEPTWXKfC7agnkdlrZcPKz7-afZOtWXH-un_5YHiFFvOMPmHHmH9LOyucKw2DfbFnUDmgpRAkN6IYJ4V_HyYQorhATQebJsrNT7lGA8U2DwEtmOFZ4oCg09m8jVNnQwK403R8-dyRqhyxMNLixXSH5YU87eWBuVv6iUo3B6-1zwdarylo1d1XU19ElbiSrAzV3gTGjkGPTKMYutm3sqSRNRImIED-E1hgXc-6nUBkV91ni4ZF7RnisHOUkfZPR8CM4p2Of6nSw3lkbI-bs26488yjG42CnLwJxl2OegWHuLN1MY_UYykJiuZ82nYOVpKKf8V88v-nz6-0M-m5-I1mWg5KAaOo77691IOZuVLuH6-veJcKv6cUxPnZz0QLzoerMYAbaNqOE8FQ.mCeq1nkajCLhihrQgfhJLXRZqVjaq2IucluH8N1PoeA\",\"expires_at\":1760174128924}\n"
          ]
        },
        {
          "output_type": "stream",
          "name": "stderr",
          "text": [
            "/usr/local/lib/python3.12/dist-packages/urllib3/connectionpool.py:1097: InsecureRequestWarning: Unverified HTTPS request is being made to host 'ngw.devices.sberbank.ru'. Adding certificate verification is strongly advised. See: https://urllib3.readthedocs.io/en/latest/advanced-usage.html#tls-warnings\n",
            "  warnings.warn(\n"
          ]
        }
      ]
    },
    {
      "cell_type": "markdown",
      "source": [
        "### Функция для отправки запроса к API чата и получения ответа"
      ],
      "metadata": {
        "id": "WQEJTwPxmA_x"
      }
    },
    {
      "cell_type": "code",
      "source": [
        "import requests\n",
        "import json\n",
        "import urllib3\n",
        "urllib3.disable_warnings(urllib3.exceptions.InsecureRequestWarning)\n",
        "\n",
        "def get_chat_completion(auth_token, user_message):\n",
        "    \"\"\"\n",
        "    Отправляет POST-запрос к API чата для получения ответа от модели GigaChat.\n",
        "\n",
        "    Параметры:\n",
        "    - auth_token (str): Токен для авторизации в API.\n",
        "    - user_message (str): Сообщение от пользователя, для которого нужно получить ответ.\n",
        "\n",
        "    Возвращает:\n",
        "    - str: Ответ от API в виде текстовой строки.\n",
        "    \"\"\"\n",
        "    url = \"https://gigachat.devices.sberbank.ru/api/v1/chat/completions\"\n",
        "\n",
        "    payload = json.dumps({\n",
        "        \"model\": \"GigaChat\",\n",
        "        \"messages\": [\n",
        "            {\n",
        "                \"role\": \"user\",\n",
        "                \"content\": user_message\n",
        "            }\n",
        "        ],\n",
        "        \"temperature\": 1,\n",
        "        \"top_p\": 0.1,\n",
        "        \"n\": 1,\n",
        "        \"stream\": False,\n",
        "        \"max_tokens\": 1024,\n",
        "        \"repetition_penalty\": 1,\n",
        "        \"update_interval\": 0\n",
        "    })\n",
        "\n",
        "    headers = {\n",
        "        'Content-Type': 'application/json',\n",
        "        'Accept': 'application/json',\n",
        "        'Authorization': f'Bearer {auth_token}'\n",
        "    }\n",
        "\n",
        "    try:\n",
        "        response = requests.request(\"POST\", url, headers=headers, data=payload, verify=False)\n",
        "        return response\n",
        "    except requests.RequestException as e:\n",
        "        print(f\"Произошла ошибка: {str(e)}\")\n",
        "        return -1"
      ],
      "metadata": {
        "id": "fb37GOLVZ94B"
      },
      "execution_count": 34,
      "outputs": []
    },
    {
      "cell_type": "markdown",
      "source": [
        "### Загрузка и исследование данных"
      ],
      "metadata": {
        "id": "uZx3lhXDhFZD"
      }
    },
    {
      "cell_type": "markdown",
      "source": [
        "Загрузка датасета Diabetes из sklearn, анализ структуры, вычисление корреляций с целевой переменной"
      ],
      "metadata": {
        "id": "SWwjuiZngpri"
      }
    },
    {
      "cell_type": "code",
      "source": [
        "import pandas as pd\n",
        "import requests\n",
        "import json\n",
        "from datetime import datetime\n",
        "from sklearn.datasets import load_diabetes\n",
        "import numpy as np\n",
        "\n",
        "def create_diabetes_dataframe():\n",
        "    \"\"\"Создание DataFrame из датасета Diabetes\"\"\"\n",
        "    diabetes = load_diabetes()\n",
        "\n",
        "    df_diabetes = pd.DataFrame(diabetes.data, columns=diabetes.feature_names)\n",
        "\n",
        "    df_diabetes['target'] = diabetes.target\n",
        "\n",
        "    return df_diabetes, diabetes\n",
        "\n",
        "df_diabetes, diabetes_raw = create_diabetes_dataframe()\n",
        "print(\"Данные Diabetes:\")\n",
        "print(f\"Форма данных: {df_diabetes.shape}\")\n",
        "print(f\"Колонки: {list(df_diabetes.columns)}\")\n",
        "print(\"\\nПервые 5 строк:\")\n",
        "print(df_diabetes.head())\n",
        "print(\"\\nОсновная статистика:\")\n",
        "print(df_diabetes.describe())\n",
        "\n",
        "numeric_columns = df_diabetes.select_dtypes(include=[np.number]).columns\n",
        "correlations = df_diabetes[numeric_columns].corr()['target'].sort_values(ascending=False)\n",
        "\n",
        "print(f\"\\nКорреляция с целевой переменной:\")\n",
        "print(correlations)"
      ],
      "metadata": {
        "colab": {
          "base_uri": "https://localhost:8080/"
        },
        "id": "4OsBIMwOceHA",
        "outputId": "44513886-f88e-4af5-fd8d-670eade1a541"
      },
      "execution_count": 35,
      "outputs": [
        {
          "output_type": "stream",
          "name": "stdout",
          "text": [
            "Данные Diabetes:\n",
            "Форма данных: (442, 11)\n",
            "Колонки: ['age', 'sex', 'bmi', 'bp', 's1', 's2', 's3', 's4', 's5', 's6', 'target']\n",
            "\n",
            "Первые 5 строк:\n",
            "        age       sex       bmi        bp        s1        s2        s3  \\\n",
            "0  0.038076  0.050680  0.061696  0.021872 -0.044223 -0.034821 -0.043401   \n",
            "1 -0.001882 -0.044642 -0.051474 -0.026328 -0.008449 -0.019163  0.074412   \n",
            "2  0.085299  0.050680  0.044451 -0.005670 -0.045599 -0.034194 -0.032356   \n",
            "3 -0.089063 -0.044642 -0.011595 -0.036656  0.012191  0.024991 -0.036038   \n",
            "4  0.005383 -0.044642 -0.036385  0.021872  0.003935  0.015596  0.008142   \n",
            "\n",
            "         s4        s5        s6  target  \n",
            "0 -0.002592  0.019907 -0.017646   151.0  \n",
            "1 -0.039493 -0.068332 -0.092204    75.0  \n",
            "2 -0.002592  0.002861 -0.025930   141.0  \n",
            "3  0.034309  0.022688 -0.009362   206.0  \n",
            "4 -0.002592 -0.031988 -0.046641   135.0  \n",
            "\n",
            "Основная статистика:\n",
            "                age           sex           bmi            bp            s1  \\\n",
            "count  4.420000e+02  4.420000e+02  4.420000e+02  4.420000e+02  4.420000e+02   \n",
            "mean  -2.511817e-19  1.230790e-17 -2.245564e-16 -4.797570e-17 -1.381499e-17   \n",
            "std    4.761905e-02  4.761905e-02  4.761905e-02  4.761905e-02  4.761905e-02   \n",
            "min   -1.072256e-01 -4.464164e-02 -9.027530e-02 -1.123988e-01 -1.267807e-01   \n",
            "25%   -3.729927e-02 -4.464164e-02 -3.422907e-02 -3.665608e-02 -3.424784e-02   \n",
            "50%    5.383060e-03 -4.464164e-02 -7.283766e-03 -5.670422e-03 -4.320866e-03   \n",
            "75%    3.807591e-02  5.068012e-02  3.124802e-02  3.564379e-02  2.835801e-02   \n",
            "max    1.107267e-01  5.068012e-02  1.705552e-01  1.320436e-01  1.539137e-01   \n",
            "\n",
            "                 s2            s3            s4            s5            s6  \\\n",
            "count  4.420000e+02  4.420000e+02  4.420000e+02  4.420000e+02  4.420000e+02   \n",
            "mean   3.918434e-17 -5.777179e-18 -9.042540e-18  9.293722e-17  1.130318e-17   \n",
            "std    4.761905e-02  4.761905e-02  4.761905e-02  4.761905e-02  4.761905e-02   \n",
            "min   -1.156131e-01 -1.023071e-01 -7.639450e-02 -1.260971e-01 -1.377672e-01   \n",
            "25%   -3.035840e-02 -3.511716e-02 -3.949338e-02 -3.324559e-02 -3.317903e-02   \n",
            "50%   -3.819065e-03 -6.584468e-03 -2.592262e-03 -1.947171e-03 -1.077698e-03   \n",
            "75%    2.984439e-02  2.931150e-02  3.430886e-02  3.243232e-02  2.791705e-02   \n",
            "max    1.987880e-01  1.811791e-01  1.852344e-01  1.335973e-01  1.356118e-01   \n",
            "\n",
            "           target  \n",
            "count  442.000000  \n",
            "mean   152.133484  \n",
            "std     77.093005  \n",
            "min     25.000000  \n",
            "25%     87.000000  \n",
            "50%    140.500000  \n",
            "75%    211.500000  \n",
            "max    346.000000  \n",
            "\n",
            "Корреляция с целевой переменной:\n",
            "target    1.000000\n",
            "bmi       0.586450\n",
            "s5        0.565883\n",
            "bp        0.441482\n",
            "s4        0.430453\n",
            "s6        0.382483\n",
            "s1        0.212022\n",
            "age       0.187889\n",
            "s2        0.174054\n",
            "sex       0.043062\n",
            "s3       -0.394789\n",
            "Name: target, dtype: float64\n"
          ]
        }
      ]
    },
    {
      "cell_type": "markdown",
      "source": [
        "### Использование ИИ для извлечения медицинских insights\n"
      ],
      "metadata": {
        "id": "vlB36gDqg24J"
      }
    },
    {
      "cell_type": "code",
      "source": [
        "def analyze_data_with_gigachat(auth_token, data_description, question):\n",
        "    \"\"\"Использование GigaChat для анализа данных\"\"\"\n",
        "    prompt = f\"\"\"\n",
        "    У меня есть медицинский датасет Diabetes: {data_description}\n",
        "\n",
        "    Вопрос: {question}\n",
        "\n",
        "    Пожалуйста, предоставь краткий анализ и рекомендации на основе этих данных.\n",
        "    \"\"\"\n",
        "\n",
        "    response = get_chat_completion(auth_token, prompt)\n",
        "    if response != -1:\n",
        "        return response.json()['choices'][0]['message']['content']\n",
        "    else:\n",
        "        return \"Ошибка при обращении к GigaChat\"\n",
        "\n",
        "print(\"Анализ данных Diabetes с помощью GigaChat:\")\n",
        "\n",
        "data_description = f\"\"\"\n",
        "Diabetes Dataset:\n",
        "- Количество пациентов: {len(df_diabetes)}\n",
        "- Количество признаков: {len(diabetes_raw.feature_names)}\n",
        "- Признаки: {list(diabetes_raw.feature_names)}\n",
        "- Целевая переменная: количественная оценка прогрессирования диабета\n",
        "- Диапазон целевой переменной: от {df_diabetes['target'].min():.2f} до {df_diabetes['target'].max():.2f}\n",
        "- Среднее значение целевой переменной: {df_diabetes['target'].mean():.2f}\n",
        "\n",
        "Корреляции с целевой переменной:\n",
        "{correlations.to_string()}\n",
        "\n",
        "Статистика по ключевым признакам:\n",
        "- BMI (индекс массы тела): среднее {df_diabetes['bmi'].mean():.3f}\n",
        "- BP (артериальное давление): среднее {df_diabetes['bp'].mean():.3f}\n",
        "- Возраст: среднее {df_diabetes['age'].mean():.3f}\n",
        "- S5 (глюкоза): среднее {df_diabetes['s5'].mean():.3f}\n",
        "\"\"\"\n",
        "\n",
        "analysis_result = analyze_data_with_gigachat(\n",
        "    giga_token,\n",
        "    data_description,\n",
        "    \"Ориентируясь на датасет Diabetes ответь на следующие вопросы. Какие медицинские insights можно извлечь из этих данных? Какие признаки наиболее сильно влияют на прогрессирование диабета? Какие рекомендации можно дать для дальнейшего исследования?\"\n",
        ")\n",
        "\n",
        "print(analysis_result)"
      ],
      "metadata": {
        "colab": {
          "base_uri": "https://localhost:8080/"
        },
        "id": "DfUPgJzucty2",
        "outputId": "b71ecc81-f5bd-4661-c241-f5c372a23c69"
      },
      "execution_count": 36,
      "outputs": [
        {
          "output_type": "stream",
          "name": "stdout",
          "text": [
            "Анализ данных Diabetes с помощью GigaChat:\n",
            "### Анализ данных и медицинские insights\n",
            "\n",
            "#### 1. **Признаки, сильно коррелирующие с целевой переменной (прогрессией диабета)**\n",
            "\n",
            "- **BMI (индекс массы тела)** — коэффициент корреляции 0.586\n",
            "- **S5 (уровень глюкозы)** — коэффициент корреляции 0.566\n",
            "- **Артериальное давление (BP)** — коэффициент корреляции 0.441\n",
            "- **S4** — коэффициент корреляции 0.430\n",
            "- **S6** — коэффициент корреляции 0.382\n",
            "\n",
            "Эти признаки являются наиболее значимыми факторами, влияющими на прогрессию диабета. Из них наиболее сильными корреляциями обладают:\n",
            "- Индекс массы тела (BMI)\n",
            "- Уровень глюкозы (S5)\n",
            "- Артериальное давление (BP)\n",
            "\n",
            "#### 2. **Медицинские insights**\n",
            "\n",
            "- **Индекс массы тела (BMI)** — высокий индекс массы тела (ожирение) является одним из основных факторов риска развития диабета 2 типа. Избыточный вес увеличивает нагрузку на поджелудочную железу, что приводит к нарушению метаболизма глюкозы.\n",
            "- **Уровень глюкозы (S5)** — высокий уровень глюкозы в крови является ключевым показателем, указывающим на нарушение углеводного обмена и развитие диабета.\n",
            "- **Артериальное давление (BP)** — высокое артериальное давление (гипертония) связано с повышенным риском развития диабета и его осложнений.\n",
            "- **Возраст** — хотя корреляция с целевой переменной слабая (0.188), возраст является важным фактором риска, так как с возрастом риск развития диабета увеличивается.\n",
            "- **Пол (sex)** — хотя коэффициент корреляции с целевой переменной очень низкий (0.043), пол также может влиять на риск развития диабета, так как женщины с диабетом имеют более высокий риск развития осложнений.\n",
            "\n",
            "#### 3. **Рекомендации для дальнейшего исследования**\n",
            "\n",
            "- **Изучение взаимосвязи между индексом массы тела (BMI) и уровнем глюкозы (S5)** — необходимо провести более детальный анализ, чтобы понять, как именно избыточный вес влияет на уровень глюкозы в крови и прогрессию диабета.\n",
            "- **Исследование влияния артериального давления (BP)** — важно изучить, как именно высокое артериальное давление влияет на прогрессию диабета и какие механизмы лежат в основе этого влияния.\n",
            "- **Анализ влияния возраста и пола на прогрессию диабета** — необходимо провести дополнительные исследования, чтобы понять, как эти факторы влияют на риск развития диабета и его прогрессию.\n",
            "- **Оценка влияния других признаков (S1, S2, S3, S6)** — следует провести более глубокий анализ этих признаков, чтобы понять, как они влияют на прогрессию диабета и какие механизмы лежат в основе этих влияний.\n",
            "- **Использование дополнительных методов анализа** — рекомендуется использовать методы многомерного анализа (например, регрессионный анализ, кластерный анализ) для более глубокого понимания взаимосвязей между признаками и прогрессией диабета.\n",
            "\n",
            "### Краткий итог\n",
            "\n",
            "На основе представленных данных можно сделать следующие выводы:\n",
            "\n",
            "- Наиболее значимыми факторами, влияющими на прогрессию диабета, являются индекс массы тела (BMI), уровень глюкозы (S5) и артериальное давление (BP).\n",
            "- Возраст и пол также могут оказывать влияние на риск развития диабета, однако их влияние менее выражено.\n",
            "- Для дальнейшего исследования рекомендуется провести более детальный анализ взаимосвязей между этими признаками и прогрессией диабета, а также использовать дополнительные методы анализа для более глубокого понимания механизмов, лежащих в основе этих взаимосвязей.\n"
          ]
        }
      ]
    },
    {
      "cell_type": "markdown",
      "source": [
        "### Расширенный статистический анализ\n"
      ],
      "metadata": {
        "id": "aZQZ014eio3N"
      }
    },
    {
      "cell_type": "markdown",
      "source": [
        "Группировки:\n",
        "\n",
        "*   По возрасту: 5 категорий (Молодой → Престарелый)\n",
        "*   По BMI: 3 категории (Низкий → Высокий)\n"
      ],
      "metadata": {
        "id": "Ppy8EVBSizdJ"
      }
    },
    {
      "cell_type": "code",
      "source": [
        "def perform_advanced_analysis(df):\n",
        "    \"\"\"Проведение расширенного анализа данных\"\"\"\n",
        "    print(\"\\n\" + \"=\"*50)\n",
        "    print(\"Расширенный анализ данных Diabets:\")\n",
        "\n",
        "    age_categories = pd.cut(df['age'], bins=5, labels=['Молодой', 'Средний', 'Старший', 'Пожилой', 'Престарелый'])\n",
        "    bmi_categories = pd.cut(df['bmi'], bins=3, labels=['Низкий', 'Средний', 'Высокий'])\n",
        "\n",
        "    age_analysis = df.groupby(age_categories).agg({\n",
        "        'target': ['mean', 'std', 'count'],\n",
        "        'bmi': 'mean',\n",
        "        'bp': 'mean'\n",
        "    }).round(3)\n",
        "\n",
        "    age_analysis_simple = {}\n",
        "    for idx in age_analysis.index:\n",
        "        age_analysis_simple[str(idx)] = {\n",
        "            'target_mean': float(age_analysis.loc[idx, ('target', 'mean')]),\n",
        "            'target_std': float(age_analysis.loc[idx, ('target', 'std')]),\n",
        "            'count': int(age_analysis.loc[idx, ('target', 'count')]),\n",
        "            'bmi_mean': float(age_analysis.loc[idx, ('bmi', 'mean')]),\n",
        "            'bp_mean': float(age_analysis.loc[idx, ('bp', 'mean')])\n",
        "        }\n",
        "\n",
        "    print(\"Анализ по возрастным группам:\")\n",
        "    print(age_analysis)\n",
        "\n",
        "    bmi_analysis = df.groupby(bmi_categories).agg({\n",
        "        'target': ['mean', 'std'],\n",
        "        'age': 'mean',\n",
        "        'bp': 'mean'\n",
        "    }).round(3)\n",
        "\n",
        "    bmi_analysis_simple = {}\n",
        "    for idx in bmi_analysis.index:\n",
        "        bmi_analysis_simple[str(idx)] = {\n",
        "            'target_mean': float(bmi_analysis.loc[idx, ('target', 'mean')]),\n",
        "            'target_std': float(bmi_analysis.loc[idx, ('target', 'std')]),\n",
        "            'age_mean': float(bmi_analysis.loc[idx, ('age', 'mean')]),\n",
        "            'bp_mean': float(bmi_analysis.loc[idx, ('bp', 'mean')])\n",
        "        }\n",
        "\n",
        "    print(\"\\nАнализ по категориям BMI:\")\n",
        "    print(bmi_analysis)\n",
        "\n",
        "    top_correlations = correlations.abs().sort_values(ascending=False).head(6)\n",
        "    print(f\"\\nТоп-5 наиболее коррелирующих признаков с целевой переменной:\")\n",
        "    for feature, corr in top_correlations.items():\n",
        "        if feature != 'target':  # Исключаем сам target\n",
        "            print(f\"{feature}: {corr:.3f}\")\n",
        "\n",
        "    return age_analysis_simple, bmi_analysis_simple, age_analysis, bmi_analysis\n",
        "\n",
        "age_analysis_simple, bmi_analysis_simple, age_analysis_full, bmi_analysis_full = perform_advanced_analysis(df_diabetes)"
      ],
      "metadata": {
        "colab": {
          "base_uri": "https://localhost:8080/"
        },
        "id": "6YupB6N8c13n",
        "outputId": "e672d941-2d18-4231-a257-bf33582318b1"
      },
      "execution_count": 37,
      "outputs": [
        {
          "output_type": "stream",
          "name": "stdout",
          "text": [
            "\n",
            "==================================================\n",
            "Расширенный анализ данных Diabets:\n",
            "Анализ по возрастным группам:\n",
            "              target                  bmi     bp\n",
            "                mean     std count   mean   mean\n",
            "age                                             \n",
            "Молодой      133.549  67.148    51 -0.026 -0.028\n",
            "Средний      136.660  76.712   103  0.001 -0.014\n",
            "Старший      152.303  80.498   145 -0.001  0.002\n",
            "Пожилой      167.034  75.276   117  0.008  0.017\n",
            "Престарелый  181.885  67.419    26  0.017  0.024\n",
            "\n",
            "Анализ по категориям BMI:\n",
            "          target            age     bp\n",
            "            mean     std   mean   mean\n",
            "bmi                                   \n",
            "Низкий   116.274  58.183 -0.008 -0.015\n",
            "Средний  184.039  72.866  0.010  0.015\n",
            "Высокий  265.625  54.479  0.001  0.039\n",
            "\n",
            "Топ-5 наиболее коррелирующих признаков с целевой переменной:\n",
            "bmi: 0.586\n",
            "s5: 0.566\n",
            "bp: 0.441\n",
            "s4: 0.430\n",
            "s3: 0.395\n"
          ]
        },
        {
          "output_type": "stream",
          "name": "stderr",
          "text": [
            "/tmp/ipython-input-3272489251.py:9: FutureWarning: The default of observed=False is deprecated and will be changed to True in a future version of pandas. Pass observed=False to retain current behavior or observed=True to adopt the future default and silence this warning.\n",
            "  age_analysis = df.groupby(age_categories).agg({\n",
            "/tmp/ipython-input-3272489251.py:28: FutureWarning: The default of observed=False is deprecated and will be changed to True in a future version of pandas. Pass observed=False to retain current behavior or observed=True to adopt the future default and silence this warning.\n",
            "  bmi_analysis = df.groupby(bmi_categories).agg({\n"
          ]
        }
      ]
    },
    {
      "cell_type": "markdown",
      "source": [
        "Ключевые находки:\n",
        "\n",
        "*   Прогрессирование диабета увеличивается с возрастом\n",
        "*   Высокий BMI ассоциирован с более высокими значениями target (265.6)\n"
      ],
      "metadata": {
        "id": "DiKqLZl9ix7L"
      }
    },
    {
      "cell_type": "markdown",
      "source": [
        "### Генерация комплексного отчета"
      ],
      "metadata": {
        "id": "KBHIaFSojrh9"
      }
    },
    {
      "cell_type": "markdown",
      "source": [
        "Структура отчета:\n",
        "\n",
        "*   Медицинское введение и характеристики датасета\n",
        "*   Детальный анализ по возрастным группам\n",
        "*   Выводы и рекомендации\n"
      ],
      "metadata": {
        "id": "Kg0sR1i5kAaK"
      }
    },
    {
      "cell_type": "code",
      "source": [
        "def generate_comprehensive_report(auth_token, diabetes_data, advanced_analysis):\n",
        "    \"\"\"Генерация комплексного отчета с использованием pandas и GigaChat\"\"\"\n",
        "\n",
        "    age_analysis_simple, bmi_analysis_simple = advanced_analysis\n",
        "\n",
        "    pandas_analysis = {\n",
        "        'total_records': len(diabetes_data),\n",
        "        'columns': list(diabetes_data.columns),\n",
        "        'numeric_stats': {\n",
        "            'target': {\n",
        "                'mean': float(diabetes_data['target'].mean()),\n",
        "                'std': float(diabetes_data['target'].std()),\n",
        "                'min': float(diabetes_data['target'].min()),\n",
        "                'max': float(diabetes_data['target'].max())\n",
        "            },\n",
        "            'bmi': {\n",
        "                'mean': float(diabetes_data['bmi'].mean()),\n",
        "                'std': float(diabetes_data['bmi'].std())\n",
        "            },\n",
        "            'bp': {\n",
        "                'mean': float(diabetes_data['bp'].mean()),\n",
        "                'std': float(diabetes_data['bp'].std())\n",
        "            }\n",
        "        },\n",
        "        'correlation_with_target': diabetes_data.corr()['target'].to_dict(),\n",
        "        'age_group_analysis': age_analysis_simple,\n",
        "        'bmi_analysis': bmi_analysis_simple\n",
        "    }\n",
        "\n",
        "    report_prompt = f\"\"\"\n",
        "    Сгенерируй профессиональный медицинский отчет на основе анализа датасета Diabetes:\n",
        "\n",
        "    1. Медицинские данные (Diabetes Dataset):\n",
        "    - Количество пациентов: {pandas_analysis['total_records']}\n",
        "    - Признаки: {list(diabetes_raw.feature_names)}\n",
        "    - Статистика по целевой переменной: Среднее {pandas_analysis['numeric_stats']['target']['mean']:.2f}, Стандартное отклонение {pandas_analysis['numeric_stats']['target']['std']:.2f}\n",
        "    - Корреляции с целевой переменной: BMI ({pandas_analysis['correlation_with_target']['bmi']:.3f}), BP ({pandas_analysis['correlation_with_target']['bp']:.3f}), S5 ({pandas_analysis['correlation_with_target']['s5']:.3f})\n",
        "\n",
        "    2. Анализ по возрастным группам: {json.dumps(pandas_analysis['age_group_analysis'], ensure_ascii=False, indent=2)}\n",
        "\n",
        "    3. Анализ по категориям BMI: {json.dumps(pandas_analysis['bmi_analysis'], ensure_ascii=False, indent=2)}\n",
        "\n",
        "    Сделай медицинские выводы о факторах риска развития диабета и предложи рекомендации для дальнейшего исследования.\n",
        "    \"\"\"\n",
        "\n",
        "    giga_report = get_chat_completion(auth_token, report_prompt)\n",
        "    if giga_report != -1:\n",
        "        return giga_report.json()['choices'][0]['message']['content']\n",
        "    else:\n",
        "        return \"Ошибка при генерации отчета\"\n",
        "\n",
        "def save_diabetes_results(dataframe, analysis_text, advanced_analysis, filename_prefix):\n",
        "    \"\"\"Сохранение результатов анализа Diabetes в различные форматы\"\"\"\n",
        "    timestamp = datetime.now().strftime(\"%Y%m%d_%H%M%S\")\n",
        "\n",
        "    # Распаковываем advanced_analysis для использования в TXT файле\n",
        "    age_analysis_simple, bmi_analysis_simple = advanced_analysis\n",
        "\n",
        "    csv_filename = f\"{filename_prefix}_{timestamp}.csv\"\n",
        "    dataframe.to_csv(csv_filename, index=False, encoding='utf-8')\n",
        "\n",
        "    txt_filename = f\"{filename_prefix}_analysis_{timestamp}.txt\"\n",
        "    with open(txt_filename, 'w', encoding='utf-8') as f:\n",
        "        f.write(\"Анализ данных Diabetes\\n\")\n",
        "        f.write(\"=\" * 50 + \"\\n\\n\")\n",
        "        f.write(analysis_text)\n",
        "        f.write(\"\\n\\nРасширенная статистика:\\n\")\n",
        "        f.write(\"Анализ по возрастным группам:\\n\")\n",
        "        f.write(str(age_analysis_full))\n",
        "        f.write(\"\\n\\nАнализ по категориям BMI:\\n\")\n",
        "        f.write(str(bmi_analysis_full))\n",
        "        f.write(f\"\\n\\nКорреляции с целевой переменной:\\n{correlations.to_string()}\")\n",
        "\n",
        "    json_data = {\n",
        "        'metadata': {\n",
        "            'generated_at': timestamp,\n",
        "            'dataset': 'Diabetes',\n",
        "            'records_count': len(dataframe),\n",
        "            'features': list(diabetes_raw.feature_names),\n",
        "            'description': diabetes_raw.DESCRIPTION[:200] + \"...\" if hasattr(diabetes_raw, 'DESCRIPTION') else \"Diabetes dataset from sklearn\"\n",
        "        },\n",
        "        'correlation_analysis': dataframe.corr()['target'].to_dict(),\n",
        "        'summary_stats': {\n",
        "            'target_mean': float(dataframe['target'].mean()),\n",
        "            'target_std': float(dataframe['target'].std()),\n",
        "            'bmi_mean': float(dataframe['bmi'].mean()),\n",
        "            'bp_mean': float(dataframe['bp'].mean()),\n",
        "            'age_mean': float(dataframe['age'].mean())\n",
        "        },\n",
        "        'analysis': analysis_text,\n",
        "        'advanced_analysis': {\n",
        "            'age_groups': age_analysis_simple,\n",
        "            'bmi_categories': bmi_analysis_simple\n",
        "        }\n",
        "    }\n",
        "\n",
        "    json_filename = f\"{filename_prefix}_{timestamp}.json\"\n",
        "    with open(json_filename, 'w', encoding='utf-8') as f:\n",
        "        json.dump(json_data, f, ensure_ascii=False, indent=2)\n",
        "\n",
        "    print(f\"\\nРезультаты сохранены в файлы:\")\n",
        "    print(f\"- CSV: {csv_filename}\")\n",
        "    print(f\"- TXT: {txt_filename}\")\n",
        "    print(f\"- JSON: {json_filename}\")\n",
        "\n",
        "print(\"Комплексный медицинский отчет:\")\n",
        "final_report = generate_comprehensive_report(giga_token, df_diabetes, (age_analysis_simple, bmi_analysis_simple))\n",
        "print(final_report)\n",
        "\n",
        "save_diabetes_results(df_diabetes, final_report, (age_analysis_simple, bmi_analysis_simple), \"diabetes_analysis_report\")\n"
      ],
      "metadata": {
        "colab": {
          "base_uri": "https://localhost:8080/"
        },
        "id": "KHbJxGNufCWD",
        "outputId": "f62c37e6-d16d-4c05-cb77-fa957fbb6fa7"
      },
      "execution_count": 38,
      "outputs": [
        {
          "output_type": "stream",
          "name": "stdout",
          "text": [
            "Комплексный медицинский отчет:\n",
            "# Медицинский отчет по анализу датасета Diabetes\n",
            "\n",
            "## Введение\n",
            "\n",
            "В представленном датасете Diabetes содержится информация о 442 пациентах, страдающих сахарным диабетом. Исследование включает анализ медицинских признаков, таких как возраст, пол, индекс массы тела (BMI), артериальное давление (BP), а также уровни глюкозы в крови (s1, s2, s3, s4, s5, s6). Целью данного отчета является выявление факторов риска развития сахарного диабета и разработка рекомендаций для дальнейшего исследования.\n",
            "\n",
            "## Основные характеристики датасета\n",
            "\n",
            "- **Общее количество пациентов:** 442\n",
            "- **Признаки:** ['age', 'sex', 'bmi', 'bp', 's1', 's2', 's3', 's4', 's5', 's6']\n",
            "- **Статистика по целевой переменной (уровень глюкозы в крови):**\n",
            "  - Среднее значение: 152.13\n",
            "  - Стандартное отклонение: 77.09\n",
            "- **Корреляции с целевой переменной:**\n",
            "  - Индекс массы тела (BMI): 0.586\n",
            "  - Артериальное давление (BP): 0.441\n",
            "  - s5: 0.566\n",
            "\n",
            "## Анализ по возрастным группам\n",
            "\n",
            "На основе анализа датасета были выделены следующие возрастные группы пациентов:\n",
            "\n",
            "- **Молодой возраст (до 30 лет):**\n",
            "  - Среднее значение целевой переменной: 133.549\n",
            "  - Стандартное отклонение: 67.148\n",
            "  - Количество пациентов: 51\n",
            "  - Средний индекс массы тела (BMI): -0.026\n",
            "  - Среднее артериальное давление (BP): -0.028\n",
            "\n",
            "- **Средний возраст (30–50 лет):**\n",
            "  - Среднее значение целевой переменной: 136.66\n",
            "  - Стандартное отклонение: 76.712\n",
            "  - Количество пациентов: 103\n",
            "  - Средний индекс массы тела (BMI): 0.001\n",
            "  - Среднее артериальное давление (BP): -0.014\n",
            "\n",
            "- **Старший возраст (50–65 лет):**\n",
            "  - Среднее значение целевой переменной: 152.303\n",
            "  - Стандартное отклонение: 80.498\n",
            "  - Количество пациентов: 145\n",
            "  - Средний индекс массы тела (BMI): -0.001\n",
            "  - Среднее артериальное давление (BP): 0.002\n",
            "\n",
            "- **Пожилой возраст (65–80 лет):**\n",
            "  - Среднее значение целевой переменной: 167.034\n",
            "  - Стандартное отклонение: 75.276\n",
            "  - Количество пациентов: 117\n",
            "  - Средний индекс массы тела (BMI): 0.008\n",
            "  - Среднее артериальное давление (BP): 0.017\n",
            "\n",
            "- **Престарелый возраст (старше 80 лет):**\n",
            "  - Среднее значение целевой переменной: 181.885\n",
            "  - Стандартное отклонение: 67.419\n",
            "  - Количество пациентов: 26\n",
            "  - Средний индекс массы тела (BMI): 0.017\n",
            "  - Среднее артериальное давление (BP): 0.024\n",
            "\n",
            "## Анализ по категориям индекса массы тела (BMI)\n",
            "\n",
            "На основе анализа датасета были выделены следующие категории индекса массы тела:\n",
            "\n",
            "- **Низкий BMI (менее 18.5):**\n",
            "  - Среднее значение целевой переменной: 116.274\n",
            "  - Стандартное отклонение: 58.183\n",
            "  - Средний возраст: -0.008\n",
            "  - Среднее артериальное давление (BP): -0.015\n",
            "\n",
            "- **Средний BMI (18.5–24.9):**\n",
            "  - Среднее значение целевой переменной: 184.039\n",
            "  - Стандартное отклонение: 72.866\n",
            "  - Средний возраст: 0.01\n",
            "  - Среднее артериальное давление (BP): 0.015\n",
            "\n",
            "- **Высокий BMI (25 и выше):**\n",
            "  - Среднее значение целевой переменной: 265.625\n",
            "  - Стандартное отклонение: 54.479\n",
            "  - Средний возраст: 0.001\n",
            "  - Среднее артериальное давление (BP): 0.039\n",
            "\n",
            "## Медицинские выводы\n",
            "\n",
            "На основе проведенного анализа можно сделать следующие выводы:\n",
            "\n",
            "1. **Индекс\n",
            "\n",
            "Результаты сохранены в файлы:\n",
            "- CSV: diabetes_analysis_report_20251011_090858.csv\n",
            "- TXT: diabetes_analysis_report_analysis_20251011_090858.txt\n",
            "- JSON: diabetes_analysis_report_20251011_090858.json\n"
          ]
        }
      ]
    }
  ]
}